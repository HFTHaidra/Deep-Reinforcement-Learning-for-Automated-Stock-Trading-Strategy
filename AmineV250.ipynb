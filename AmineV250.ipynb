{
  "nbformat": 4,
  "nbformat_minor": 0,
  "metadata": {
    "colab": {
      "name": "AmineV250.ipynb",
      "provenance": [],
      "collapsed_sections": [
        "V8_namfrWOg9",
        "E4pj1K8_WOiU"
      ]
    },
    "kernelspec": {
      "display_name": "Python 3",
      "language": "python",
      "name": "python3"
    },
    "language_info": {
      "codemirror_mode": {
        "name": "ipython",
        "version": 3
      },
      "file_extension": ".py",
      "mimetype": "text/x-python",
      "name": "python",
      "nbconvert_exporter": "python",
      "pygments_lexer": "ipython3",
      "version": "3.6.10"
    }
  },
  "cells": [
    {
      "cell_type": "markdown",
      "metadata": {
        "id": "V8_namfrWOg9"
      },
      "source": [
        "> 1. > # HyperParameter\n",
        "***DRL for stock trading*:**\n",
        "Deep Reinforcement Learning for Automated Stock Trading\n",
        "Using reinforcement learning to trade multiple stocks through Python and OpenAI Gym"
      ]
    },
    {
      "cell_type": "code",
      "metadata": {
        "id": "rzyorWIRWOhe"
      },
      "source": [
        "#from google.colab import drive ; drive.mount('/content/drive')"
      ],
      "execution_count": null,
      "outputs": []
    },
    {
      "cell_type": "code",
      "metadata": {
        "colab": {
          "base_uri": "https://localhost:8080/"
        },
        "id": "U7SB58R8WOhf",
        "outputId": "26bb6438-720f-4884-bb3e-ea9bf3b10750"
      },
      "source": [
        "!pip install gym keras keras-rl2 tensorflow==2.1"
      ],
      "execution_count": null,
      "outputs": [
        {
          "name": "stdout",
          "output_type": "stream",
          "text": [
            "Successfully installed gast-0.2.2 keras-applications-1.0.8 keras-rl2-1.0.4 tensorboard-2.1.1 tensorflow-2.1.0 tensorflow-estimator-2.1.0\n"
          ]
        }
      ]
    },
    {
      "cell_type": "code",
      "metadata": {
        "colab": {
          "base_uri": "https://localhost:8080/"
        },
        "id": "ltZWqNRRWOhl",
        "outputId": "053c96ac-6804-4d8d-d4fe-f41404daf94b"
      },
      "source": [
        "from numpy import loadtxt\n",
        "import os\n",
        "#os.chdir(\"/content/drive/MyDrive\") \n",
        "\n",
        "\n",
        "#data = loadtxt('2010_2021.csv', delimiter=',' , encoding='utf-16') \n",
        "data = loadtxt('US30_from2021.csv', delimiter=',' , encoding='utf-16')\n",
        "prices = data[:,1]\n",
        "dates = data[:,0]\n",
        "dates = dates.astype(int)\n",
        "len(prices)"
      ],
      "execution_count": null,
      "outputs": [
        {
          "data": {
            "text/plain": [
              "105869"
            ]
          },
          "execution_count": 2,
          "metadata": {
            "tags": []
          },
          "output_type": "execute_result"
        }
      ]
    },
    {
      "cell_type": "markdown",
      "metadata": {
        "id": "E4pj1K8_WOiU"
      },
      "source": [
        "# Reloud AI"
      ]
    },
    {
      "cell_type": "code",
      "metadata": {
        "id": "Bv6QpAZaI0jL"
      },
      "source": [
        "\n",
        "import pandas as pd \n",
        "from datetime import datetime as dt\n",
        "from gym import Env\n",
        "from gym.spaces import Discrete, Box\n",
        "import numpy as np\n",
        "from datetime import datetime\n",
        "from numpy import savetxt\n",
        "import random ; from random import randint\n",
        "import matplotlib.pyplot as plt\n",
        "from tensorflow.keras.models import Sequential\n",
        "from tensorflow.keras.layers import Activation, Dense , Flatten \n",
        "from tensorflow.keras.optimizers import Adam\n",
        "from rl.policy import * ; from rl.memory import * ; from rl.agents import *"
      ],
      "execution_count": null,
      "outputs": []
    },
    {
      "cell_type": "code",
      "metadata": {
        "id": "sZgFXuXRI0jM"
      },
      "source": [
        "#input_shape=(Memoryin_window_length,ob_space_Length,window)\n",
        "Memoryin_window_length      = 1\n",
        "window                      = 360\n",
        "ob_space_Length             = 5\n",
        "actions                     = 3\n",
        "MemoryLimit                 = 600000\n",
        "#----------------------------------------------------------- \n",
        "fee                         = 3.0\n",
        "SL                          = 25.0\n",
        "TP                          = 25.0\n",
        "#------------------------------------------------------------\n",
        "Time_each_trade             = 60\n",
        "\n",
        "#------------------------------------------------------------\n",
        "steps = 1000\n",
        "Looping = 2\n",
        "sIndex                        = 4000\n",
        "eIndex                        = 3200000    # MAX = 3.490.000 [ 290.000 Traning 200 Evalation]\n"
      ],
      "execution_count": null,
      "outputs": []
    },
    {
      "cell_type": "code",
      "metadata": {
        "colab": {
          "base_uri": "https://localhost:8080/"
        },
        "id": "MOJKPbJjI0jM",
        "outputId": "3aa2e79a-f820-43f2-d5eb-ddb415aee9db"
      },
      "source": [
        "360/8"
      ],
      "execution_count": null,
      "outputs": [
        {
          "data": {
            "text/plain": [
              "45.0"
            ]
          },
          "execution_count": 5,
          "metadata": {
            "tags": []
          },
          "output_type": "execute_result"
        }
      ]
    },
    {
      "cell_type": "code",
      "metadata": {
        "id": "GsSA8uBthgH7"
      },
      "source": [
        "def GrapheV15(stats):\n",
        "    plt.figure(figsize=(16, 9)) \n",
        "    x = stats[:,0]\n",
        "    y = np.arange(0,len(x) ) \n",
        "    plt.plot(  y ,   x   , label=\"US30 Line\" )\n",
        "    plt.plot(  y ,  stats[:,1]    , label=\"US30 Line\" )\n",
        "    plt.plot(  y ,  stats[:,2]    , label=\"US30 Line\" )\n",
        "    plt.plot(  y ,  stats[:,3]    , label=\"US30 Line\" )\n",
        "    plt.plot(  y ,  stats[:,4]    , label=\"US30 Line\" )\n",
        "    plt.show()\n",
        "def GrapheV16(price):\n",
        "    plt.figure(figsize=(16, 9)) \n",
        "    x = price\n",
        "    y = np.arange(0,len(x) ) \n",
        "    plt.plot(  y ,   x   , label=\"US30 Line\" )\n",
        "    plt.show()    \n",
        "def showV409(nb):\n",
        "  x = []\n",
        "  y = []\n",
        "  p = 0\n",
        "  s = 0\n",
        "  for i in range(0, len(env.R)  ):\n",
        "    for j in range( 0 , len(env.R[i])   ):\n",
        "      s = s + env.R[i][j]\n",
        "      if ( env.R[i][j] != 0 ):\n",
        "        x.append(s)\n",
        "        y.append(p)\n",
        "        p = p + 1\n",
        "  k = nb\n",
        "  l = 0\n",
        "  print( ' All Rewards : {} \\n'.format(  x[ len(x)-1 ]  ) )\n",
        "  for i in range(0,k):\n",
        "    m = int (len(x)/k )\n",
        "    x1 = x[ l:(m + m*i) ]\n",
        "    y1 = y[ l:(m + m*i) ]\n",
        "    plt.figure(figsize=(16, 9))\n",
        "    plt.plot( y1, x1, label=\"US30 Line\") \n",
        "    plt.xlabel(\"x axis\")\n",
        "    plt.ylabel(\"y axis\")\n",
        "    plt.title(\"Line Graph Example\")\n",
        "    plt.show()  # 200\n",
        "    l = (m + m*i)    \n",
        "def ShowReward(nb,AllReward):\n",
        "  x = []\n",
        "  y = []\n",
        "  p = 0\n",
        "  s = 0\n",
        "  for i in range(0, len(AllReward)  ):\n",
        "    if ( AllReward[i] != 0 ):\n",
        "      s+=AllReward[i]\n",
        "      x.append(s)\n",
        "      y.append(p)\n",
        "      p = p + 1\n",
        "  k = nb\n",
        "  l = 0\n",
        "  if(len(x)>2):\n",
        "    print( ' All Rewards : {} \\n'.format(  x[ len(x)-1 ]  ) )\n",
        "  for i in range(0,k):\n",
        "    m = int (len(x)/k )\n",
        "    x1 = x[ l:(m + m*i) ]\n",
        "    y1 = y[ l:(m + m*i) ]\n",
        "    plt.figure(figsize=(16, 9))\n",
        "    plt.plot( y1, x1, label=\"US30 Line\") \n",
        "    plt.xlabel(\"x axis\")\n",
        "    plt.ylabel(\"y axis\")\n",
        "    plt.title(\"Line Graph Example\")\n",
        "    plt.show()  # 200\n",
        "    l = (m + m*i)         "
      ],
      "execution_count": null,
      "outputs": []
    },
    {
      "cell_type": "code",
      "metadata": {
        "colab": {
          "base_uri": "https://localhost:8080/"
        },
        "id": "A4wUU7NdYjqf",
        "outputId": "b1f0d084-16f9-4fed-f083-084442d18e9f"
      },
      "source": [
        "def build_model(ob_space_Length, window, actions,Memoryin_window_length):\n",
        "    model = Sequential()\n",
        "    model.add(Dense(128,activation='relu', input_shape=(Memoryin_window_length,ob_space_Length,window) ) )\n",
        "    model.add(Dense(256, activation='relu'))\n",
        "    model.add(Dense(256, activation='relu'))\n",
        "    model.add(Dense(128, activation='relu'))\n",
        "    model.add(Flatten())\n",
        "    model.add(Dense(actions))\n",
        "    return model    \n",
        "def build_agent(model, actions,Memoryin_window_length):\n",
        "    policy = LinearAnnealedPolicy(EpsGreedyQPolicy(), attr='eps', value_max=1., value_min=.1, value_test=.2, nb_steps=10000)\n",
        "    memory = SequentialMemory(limit= MemoryLimit , window_length=Memoryin_window_length)\n",
        "    dqn = DQNAgent(model=model, memory=memory, policy=policy,\n",
        "                  enable_dueling_network=True, dueling_type='avg', \n",
        "                   nb_actions=actions, nb_steps_warmup=1000 ,\n",
        "                   gamma=0.95 \n",
        "                  )\n",
        "    return dqn  \n",
        "model = build_model(ob_space_Length, window, actions,Memoryin_window_length)\n",
        "model.summary()\n",
        "dqn = build_agent(model, actions,Memoryin_window_length)\n",
        "dqn.compile( Adam(lr=1e-4))    \n",
        "#name  = 'WSaved/17-36-20/17-36-20.h5f'\n",
        "#dqn.load_weights(name)    "
      ],
      "execution_count": null,
      "outputs": [
        {
          "name": "stdout",
          "output_type": "stream",
          "text": [
            "WARNING:tensorflow:From /usr/local/lib/python3.7/dist-packages/tensorflow_core/python/ops/resource_variable_ops.py:1635: calling BaseResourceVariable.__init__ (from tensorflow.python.ops.resource_variable_ops) with constraint is deprecated and will be removed in a future version.\n",
            "Instructions for updating:\n",
            "If using Keras pass *_constraint arguments to layers.\n",
            "Model: \"sequential\"\n",
            "_________________________________________________________________\n",
            "Layer (type)                 Output Shape              Param #   \n",
            "=================================================================\n",
            "dense (Dense)                (None, 1, 5, 128)         46208     \n",
            "_________________________________________________________________\n",
            "dense_1 (Dense)              (None, 1, 5, 256)         33024     \n",
            "_________________________________________________________________\n",
            "dense_2 (Dense)              (None, 1, 5, 256)         65792     \n",
            "_________________________________________________________________\n",
            "dense_3 (Dense)              (None, 1, 5, 128)         32896     \n",
            "_________________________________________________________________\n",
            "flatten (Flatten)            (None, 640)               0         \n",
            "_________________________________________________________________\n",
            "dense_4 (Dense)              (None, 3)                 1923      \n",
            "=================================================================\n",
            "Total params: 179,843\n",
            "Trainable params: 179,843\n",
            "Non-trainable params: 0\n",
            "_________________________________________________________________\n"
          ]
        }
      ]
    },
    {
      "cell_type": "code",
      "metadata": {
        "id": "j1dyCqVDWx7t"
      },
      "source": [
        "def isShort( indexStart ):\n",
        "  global prices , TP , SL , fee\n",
        "  res = -1\n",
        "  index = 1 #min + random.randint(0, 3)\n",
        "  min = indexStart\n",
        "  max = min+ 4000\n",
        "  for i in range(min,max):\n",
        "    if( prices[i] <= (prices[min]-TP) ):\n",
        "      res = TP - fee\n",
        "      index = i - min  \n",
        "      break\n",
        "    if( prices[i] >= (prices[min]+SL) ):\n",
        "      res = -SL \n",
        "      index = i - min    \n",
        "      break\n",
        "  if( res == -1 ):\n",
        "    print(\"XLXLXLXLXLXLXLXLXLXLXLXLXLXLXLXLXLXLXLXLXLXLXLXLXLXLXLXLXLX\")  \n",
        "    res = -SL -fee\n",
        "    index = max - min\n",
        "  return [res , index]\n",
        "def isLong( indexStart ):\n",
        "  global prices , TP , SL , fee\n",
        "  res = -1\n",
        "  index = 1 #min + random.randint(1, 3)\n",
        "  min = indexStart\n",
        "  max = min+ 4000\n",
        "  for i in range(min,max):\n",
        "    if( prices[i] >= (prices[min]+TP) ):\n",
        "      res = TP - fee\n",
        "      index = i - min   \n",
        "      break\n",
        "    if( prices[i] <= (prices[min]-SL) ):\n",
        "      res = -SL \n",
        "      index = i - min   \n",
        "      break\n",
        "  if( res == -1 ):\n",
        "    print(\"XLXLXLXLXLXLXLXLXLXLXLXLXLXLXLXLXLXLXLXLXLXLXLXLXLXLXLXLXLX\")  \n",
        "    res = -SL -fee\n",
        "    index = max - min\n",
        "  return [res , index]  "
      ],
      "execution_count": null,
      "outputs": []
    },
    {
      "cell_type": "code",
      "metadata": {
        "id": "aJKqaQ_UURkx"
      },
      "source": [
        "def SMAOLD(Data,Periodes):\n",
        "    n = len(Data)-1 \n",
        "    res = [Data[0]]\n",
        "    for i in range(0,n):\n",
        "      iSMA = 0\n",
        "      for j in range(i,i+Periodes):\n",
        "        if(j>=n):\n",
        "          iSMA = iSMA +Data[n]\n",
        "        else:\n",
        "          iSMA = iSMA + Data[j]\n",
        "      iSMA = iSMA/Periodes  \n",
        "      res.append(iSMA)\n",
        "    return res \n",
        "def getStats(price_):\n",
        "  res  = []\n",
        "  sma5 =  SMAOLD( price_, 5  )\n",
        "  sma10 = SMAOLD( price_, 10 )\n",
        "  sma20 = SMAOLD( price_, 20 )\n",
        "  sma50 = SMAOLD( price_, 50 )\n",
        "  for i in range(0,len(price_)):\n",
        "    res.append( [ price_[i] ,sma5[i],sma10[i],sma20[i],sma50[i]  ] )\n",
        "  res     = np.array(res)  \n",
        "  #ma = res.max()\n",
        "  #mi = res.min()\n",
        "  ma = price_[0]+1000\n",
        "  mi = price_[0]-1000\n",
        "  #print('~~~~~~~~~~~~~~~~~~~~~~~~~~~~~~~~~~~~~~~>{} '.format(ma-mi ) )\n",
        "  res = ( res - mi )/(ma - mi) \n",
        "  #print( ' ~~~~~~~~~~~~~~~ Max = {} _ Min = {} '.format(res.max(),  res.min() ) )\n",
        "  return res"
      ],
      "execution_count": null,
      "outputs": []
    },
    {
      "cell_type": "code",
      "metadata": {
        "colab": {
          "background_save": true,
          "base_uri": "https://localhost:8080/",
          "height": 1000
        },
        "id": "flZRsFfStD_H",
        "outputId": "0ff6c0dd-ed17-4c4c-991e-a7616d21752c"
      },
      "source": [
        "class env1(Env ):\n",
        "    def __init__(self,  prices  ,tp_,sl_, ifTesting):\n",
        "         #------------  observation_space  observation_space --------------------------------------------\n",
        "        global ob_space_Length , window  , fee , sIndex , eIndex , Time_each_trade , AllReward\n",
        "        self.window = window   # 360Min = 6H (Best View) \n",
        "        self.prices = prices\n",
        "        self.observation_space = Box(low= 0.0, high= 1.0, shape=( ob_space_Length ,self.window), dtype=np.float64 )\n",
        "        self.action_space = Discrete(3)\n",
        " \n",
        "        #------------  Parameters --------------------------------------------\n",
        "        self.DayStep =  360 #1380\n",
        "        self.startIndex = sIndex\n",
        "        self.iwin = 0               # iWindow [ 0 - (length_data - window ) ]\n",
        "        self.SL = sl_\n",
        "        self.TP = tp_\n",
        "        self.ifTesting = ifTesting\n",
        "        self.Time_each_trade = Time_each_trade\n",
        "\n",
        " \n",
        " \n",
        "    def step(self, action):\n",
        "        reward = 0\n",
        "        \n",
        "        iaccPrice = self.startIndex  + self.iwin\n",
        "        \n",
        "        accPrice = self.prices[iaccPrice]\n",
        "        newprice = 0\n",
        "        \n",
        "        if(action==0):# sell\n",
        "          reward , index = isShort( iaccPrice  )\n",
        "\n",
        "          \n",
        "        \n",
        "        if(action==1):# Buy\n",
        "          reward , index = isLong( iaccPrice  )\n",
        "\n",
        "           \n",
        "        if(action==2):# none\n",
        "          reward = 0.01\n",
        " \n",
        "        self.iwin = self.iwin + self.Time_each_trade  # 60 1H\n",
        "        \n",
        "        # Check if shower is done\n",
        "        if self.iwin > ( len(self.DayStats)  ) :\n",
        "            done = True\n",
        "           \n",
        "           \n",
        "        else:\n",
        "            done = False\n",
        "            i1 = self.iwin - self.window\n",
        "            i2 = self.iwin\n",
        "            self.state = np.transpose( self.DayStats[i1:i2] )\n",
        "            #print( '--->{}  '.format( self.iwin  ) )\n",
        "            \n",
        "            \n",
        "        info_ = {}\n",
        "        AllReward.append( reward )\n",
        "        return self.state, reward, done, info_\n",
        " \n",
        "    def render(self):\n",
        "       r=0\n",
        "         \n",
        "    def reset(self):\n",
        "        self.iwin = self.window\n",
        "        self.startIndex += self.DayStep + random.randint(0, 50) \n",
        "        d1 = self.startIndex\n",
        "        d2 = d1 + self.DayStep \n",
        "        self.DayStats  = getStats( prices[d1:d2] )\n",
        "        \n",
        "        i1 = self.iwin - self.window\n",
        "        i2 = self.iwin\n",
        "        \n",
        "        self.state = np.transpose( self.DayStats[i1:i2]  )\n",
        "        #print('---------------> {} <--------------'.format( d2 ))\n",
        "        if( d2 > eIndex  ):\n",
        "          self.startIndex = sIndex + random.randint(0, 50) \n",
        "\n",
        "        return self.state\n",
        "#-----------------------------------------------------------------\n",
        "AllReward = []\n",
        "sIndex                        = 0\n",
        "eIndex                        = 500000\n",
        "env = env1(    prices , TP, SL,1)\n",
        "_ = dqn.test(env, nb_episodes=100  , visualize=False)\n",
        "\n",
        "ShowReward(1,AllReward)\n"
      ],
      "execution_count": null,
      "outputs": [
        {
          "name": "stdout",
          "output_type": "stream",
          "text": [
            "Testing for 100 episodes ...\n",
            "---------------> 738 <--------------\n",
            "Episode 1: reward: 22.000, steps: 1\n",
            "---------------> 1119 <--------------\n",
            "Episode 2: reward: 0.010, steps: 1\n",
            "---------------> 1498 <--------------\n",
            "Episode 3: reward: 22.000, steps: 1\n",
            "---------------> 1878 <--------------\n",
            "Episode 4: reward: 0.010, steps: 1\n",
            "---------------> 2260 <--------------\n",
            "Episode 5: reward: 0.010, steps: 1\n",
            "---------------> 2630 <--------------\n",
            "Episode 6: reward: 22.000, steps: 1\n",
            "---------------> 3017 <--------------\n",
            "Episode 7: reward: 0.010, steps: 1\n",
            "---------------> 3394 <--------------\n",
            "Episode 8: reward: 22.000, steps: 1\n",
            "---------------> 3757 <--------------\n",
            "Episode 9: reward: 22.000, steps: 1\n",
            "---------------> 4136 <--------------\n",
            "Episode 10: reward: 0.010, steps: 1\n",
            "---------------> 4517 <--------------\n",
            "Episode 11: reward: -25.000, steps: 1\n",
            "---------------> 4890 <--------------\n",
            "Episode 12: reward: 0.010, steps: 1\n",
            "---------------> 5282 <--------------\n",
            "Episode 13: reward: 22.000, steps: 1\n",
            "---------------> 5686 <--------------\n",
            "Episode 14: reward: 22.000, steps: 1\n",
            "---------------> 6068 <--------------\n",
            "Episode 15: reward: -25.000, steps: 1\n",
            "---------------> 6438 <--------------\n",
            "Episode 16: reward: 0.010, steps: 1\n",
            "---------------> 6844 <--------------\n",
            "Episode 17: reward: -25.000, steps: 1\n",
            "---------------> 7219 <--------------\n",
            "Episode 18: reward: 22.000, steps: 1\n",
            "---------------> 7615 <--------------\n",
            "Episode 19: reward: 0.010, steps: 1\n",
            "---------------> 8000 <--------------\n",
            "Episode 20: reward: 22.000, steps: 1\n",
            "---------------> 8397 <--------------\n",
            "Episode 21: reward: 22.000, steps: 1\n",
            "---------------> 8789 <--------------\n",
            "Episode 22: reward: -25.000, steps: 1\n",
            "---------------> 9150 <--------------\n",
            "Episode 23: reward: 0.010, steps: 1\n",
            "---------------> 9518 <--------------\n",
            "Episode 24: reward: 22.000, steps: 1\n",
            "---------------> 9908 <--------------\n",
            "Episode 25: reward: 22.000, steps: 1\n",
            "---------------> 10287 <--------------\n",
            "Episode 26: reward: 0.010, steps: 1\n",
            "---------------> 10663 <--------------\n",
            "Episode 27: reward: 22.000, steps: 1\n",
            "---------------> 11032 <--------------\n",
            "Episode 28: reward: 0.010, steps: 1\n",
            "---------------> 11425 <--------------\n",
            "Episode 29: reward: 0.010, steps: 1\n",
            "---------------> 11792 <--------------\n",
            "Episode 30: reward: 0.010, steps: 1\n",
            "---------------> 12167 <--------------\n",
            "Episode 31: reward: 0.010, steps: 1\n",
            "---------------> 12565 <--------------\n",
            "Episode 32: reward: 0.010, steps: 1\n",
            "---------------> 12933 <--------------\n",
            "Episode 33: reward: 0.010, steps: 1\n",
            "---------------> 13297 <--------------\n",
            "Episode 34: reward: 22.000, steps: 1\n",
            "---------------> 13704 <--------------\n",
            "Episode 35: reward: 0.010, steps: 1\n",
            "---------------> 14078 <--------------\n",
            "Episode 36: reward: 0.010, steps: 1\n",
            "---------------> 14454 <--------------\n",
            "Episode 37: reward: 0.010, steps: 1\n",
            "---------------> 14846 <--------------\n",
            "Episode 38: reward: 22.000, steps: 1\n",
            "---------------> 15241 <--------------\n",
            "Episode 39: reward: 0.010, steps: 1\n",
            "---------------> 15638 <--------------\n",
            "Episode 40: reward: 22.000, steps: 1\n",
            "---------------> 16036 <--------------\n",
            "Episode 41: reward: -25.000, steps: 1\n",
            "---------------> 16433 <--------------\n",
            "Episode 42: reward: 0.010, steps: 1\n",
            "---------------> 16810 <--------------\n",
            "Episode 43: reward: -25.000, steps: 1\n",
            "---------------> 17177 <--------------\n",
            "Episode 44: reward: -25.000, steps: 1\n",
            "---------------> 17547 <--------------\n",
            "Episode 45: reward: 22.000, steps: 1\n",
            "---------------> 17954 <--------------\n",
            "Episode 46: reward: 0.010, steps: 1\n",
            "---------------> 18336 <--------------\n",
            "Episode 47: reward: -25.000, steps: 1\n",
            "---------------> 18697 <--------------\n",
            "Episode 48: reward: -25.000, steps: 1\n",
            "---------------> 19077 <--------------\n",
            "Episode 49: reward: -25.000, steps: 1\n",
            "---------------> 19480 <--------------\n",
            "Episode 50: reward: 0.010, steps: 1\n",
            "---------------> 19870 <--------------\n",
            "Episode 51: reward: 22.000, steps: 1\n",
            "---------------> 20260 <--------------\n",
            "Episode 52: reward: 0.010, steps: 1\n",
            "---------------> 20641 <--------------\n",
            "Episode 53: reward: 0.010, steps: 1\n",
            "---------------> 21025 <--------------\n",
            "Episode 54: reward: -25.000, steps: 1\n",
            "---------------> 21432 <--------------\n",
            "Episode 55: reward: -25.000, steps: 1\n",
            "---------------> 21812 <--------------\n",
            "Episode 56: reward: 0.010, steps: 1\n",
            "---------------> 22217 <--------------\n",
            "Episode 57: reward: -25.000, steps: 1\n",
            "---------------> 22591 <--------------\n",
            "Episode 58: reward: 0.010, steps: 1\n",
            "---------------> 22958 <--------------\n",
            "Episode 59: reward: 0.010, steps: 1\n",
            "---------------> 23358 <--------------\n",
            "Episode 60: reward: 22.000, steps: 1\n",
            "---------------> 23738 <--------------\n",
            "Episode 61: reward: -25.000, steps: 1\n",
            "---------------> 24144 <--------------\n",
            "Episode 62: reward: 0.010, steps: 1\n",
            "---------------> 24508 <--------------\n",
            "Episode 63: reward: 22.000, steps: 1\n",
            "---------------> 24899 <--------------\n",
            "Episode 64: reward: 0.010, steps: 1\n",
            "---------------> 25305 <--------------\n",
            "Episode 65: reward: 22.000, steps: 1\n",
            "---------------> 25699 <--------------\n",
            "Episode 66: reward: 22.000, steps: 1\n",
            "---------------> 26096 <--------------\n",
            "Episode 67: reward: -25.000, steps: 1\n",
            "---------------> 26470 <--------------\n",
            "Episode 68: reward: -25.000, steps: 1\n",
            "---------------> 26859 <--------------\n",
            "Episode 69: reward: 22.000, steps: 1\n",
            "---------------> 27265 <--------------\n",
            "Episode 70: reward: 22.000, steps: 1\n",
            "---------------> 27638 <--------------\n",
            "Episode 71: reward: -25.000, steps: 1\n",
            "---------------> 28040 <--------------\n",
            "Episode 72: reward: 22.000, steps: 1\n",
            "---------------> 28404 <--------------\n",
            "Episode 73: reward: -25.000, steps: 1\n",
            "---------------> 28789 <--------------\n",
            "Episode 74: reward: 22.000, steps: 1\n",
            "---------------> 29184 <--------------\n",
            "Episode 75: reward: 22.000, steps: 1\n",
            "---------------> 29586 <--------------\n",
            "Episode 76: reward: 22.000, steps: 1\n",
            "---------------> 29977 <--------------\n",
            "Episode 77: reward: 0.010, steps: 1\n",
            "---------------> 30378 <--------------\n",
            "Episode 78: reward: 0.010, steps: 1\n",
            "---------------> 30738 <--------------\n",
            "Episode 79: reward: 0.010, steps: 1\n",
            "---------------> 31109 <--------------\n",
            "Episode 80: reward: 0.010, steps: 1\n",
            "---------------> 31489 <--------------\n",
            "Episode 81: reward: 0.010, steps: 1\n",
            "---------------> 31866 <--------------\n",
            "Episode 82: reward: 22.000, steps: 1\n",
            "---------------> 32240 <--------------\n",
            "Episode 83: reward: 0.010, steps: 1\n",
            "---------------> 32615 <--------------\n",
            "Episode 84: reward: 22.000, steps: 1\n",
            "---------------> 33019 <--------------\n",
            "Episode 85: reward: 0.010, steps: 1\n",
            "---------------> 33413 <--------------\n",
            "Episode 86: reward: -25.000, steps: 1\n",
            "---------------> 33784 <--------------\n",
            "Episode 87: reward: -25.000, steps: 1\n",
            "---------------> 34144 <--------------\n",
            "Episode 88: reward: 22.000, steps: 1\n",
            "---------------> 34514 <--------------\n",
            "Episode 89: reward: 0.010, steps: 1\n",
            "---------------> 34912 <--------------\n",
            "Episode 90: reward: 22.000, steps: 1\n",
            "---------------> 35286 <--------------\n",
            "Episode 91: reward: -25.000, steps: 1\n",
            "---------------> 35675 <--------------\n",
            "Episode 92: reward: 0.010, steps: 1\n",
            "---------------> 36045 <--------------\n",
            "Episode 93: reward: 0.010, steps: 1\n",
            "---------------> 36409 <--------------\n",
            "Episode 94: reward: 22.000, steps: 1\n",
            "---------------> 36779 <--------------\n",
            "Episode 95: reward: 0.010, steps: 1\n",
            "---------------> 37180 <--------------\n",
            "Episode 96: reward: 0.010, steps: 1\n",
            "---------------> 37554 <--------------\n",
            "Episode 97: reward: 22.000, steps: 1\n",
            "---------------> 37940 <--------------\n",
            "Episode 98: reward: 22.000, steps: 1\n",
            "---------------> 38348 <--------------\n",
            "Episode 99: reward: 0.010, steps: 1\n",
            "---------------> 38714 <--------------\n",
            "Episode 100: reward: 0.010, steps: 1\n",
            " All Rewards : 245.43999999999977 \n",
            "\n"
          ]
        },
        {
          "data": {
            "image/png": "[encoded data removed]",
            "text/plain": [
              "<Figure size 1152x648 with 1 Axes>"
            ]
          },
          "metadata": {},
          "output_type": "display_data"
        }
      ]
    },
    {
      "cell_type": "code",
      "metadata": {
        "id": "gsV3M__m26K-"
      },
      "source": [
        " #ShowReward(4,AllReward)"
      ],
      "execution_count": null,
      "outputs": []
    },
    {
      "cell_type": "code",
      "metadata": {
        "colab": {
          "base_uri": "https://localhost:8080/",
          "height": 391
        },
        "id": "2beYwoC3Wy78",
        "outputId": "4a612ea2-8cfb-436c-bde5-5b5e05f150c0"
      },
      "source": [
        "AllReward = []\n",
        "sIndex                        = 3300000\n",
        "eIndex                        = 3400000\n",
        "env = env1(prices , TP, SL,1)\n",
        "_ = dqn.test(env, nb_episodes=10  , visualize=False)\n",
        " \n",
        "ShowReward(1,AllReward)\n"
      ],
      "execution_count": null,
      "outputs": [
        {
          "name": "stdout",
          "output_type": "stream",
          "text": [
            "Testing for 10 episodes ...\n"
          ]
        },
        {
          "ename": "IndexError",
          "evalue": "ignored",
          "output_type": "error",
          "traceback": [
            "\u001b[0;31m---------------------------------------------------------------------------\u001b[0m",
            "\u001b[0;31mIndexError\u001b[0m                                Traceback (most recent call last)",
            "\u001b[0;32m<ipython-input-12-b33f09b8d5c4>\u001b[0m in \u001b[0;36m<module>\u001b[0;34m()\u001b[0m\n\u001b[1;32m      3\u001b[0m \u001b[0meIndex\u001b[0m                        \u001b[0;34m=\u001b[0m \u001b[0;36m3400000\u001b[0m\u001b[0;34m\u001b[0m\u001b[0;34m\u001b[0m\u001b[0m\n\u001b[1;32m      4\u001b[0m \u001b[0menv\u001b[0m \u001b[0;34m=\u001b[0m \u001b[0menv1\u001b[0m\u001b[0;34m(\u001b[0m\u001b[0mprices\u001b[0m \u001b[0;34m,\u001b[0m \u001b[0mTP\u001b[0m\u001b[0;34m,\u001b[0m \u001b[0mSL\u001b[0m\u001b[0;34m,\u001b[0m\u001b[0;36m1\u001b[0m\u001b[0;34m)\u001b[0m\u001b[0;34m\u001b[0m\u001b[0;34m\u001b[0m\u001b[0m\n\u001b[0;32m----> 5\u001b[0;31m \u001b[0m_\u001b[0m \u001b[0;34m=\u001b[0m \u001b[0mdqn\u001b[0m\u001b[0;34m.\u001b[0m\u001b[0mtest\u001b[0m\u001b[0;34m(\u001b[0m\u001b[0menv\u001b[0m\u001b[0;34m,\u001b[0m \u001b[0mnb_episodes\u001b[0m\u001b[0;34m=\u001b[0m\u001b[0;36m10\u001b[0m  \u001b[0;34m,\u001b[0m \u001b[0mvisualize\u001b[0m\u001b[0;34m=\u001b[0m\u001b[0;32mFalse\u001b[0m\u001b[0;34m)\u001b[0m\u001b[0;34m\u001b[0m\u001b[0;34m\u001b[0m\u001b[0m\n\u001b[0m\u001b[1;32m      6\u001b[0m \u001b[0;34m\u001b[0m\u001b[0m\n\u001b[1;32m      7\u001b[0m \u001b[0mShowReward\u001b[0m\u001b[0;34m(\u001b[0m\u001b[0;36m1\u001b[0m\u001b[0;34m,\u001b[0m\u001b[0mAllReward\u001b[0m\u001b[0;34m)\u001b[0m\u001b[0;34m\u001b[0m\u001b[0;34m\u001b[0m\u001b[0m\n",
            "\u001b[0;32m/usr/local/lib/python3.7/dist-packages/rl/core.py\u001b[0m in \u001b[0;36mtest\u001b[0;34m(self, env, nb_episodes, action_repetition, callbacks, visualize, nb_max_episode_steps, nb_max_start_steps, start_step_policy, verbose)\u001b[0m\n\u001b[1;32m    307\u001b[0m             \u001b[0;31m# Obtain the initial observation by resetting the environment.\u001b[0m\u001b[0;34m\u001b[0m\u001b[0;34m\u001b[0m\u001b[0;34m\u001b[0m\u001b[0m\n\u001b[1;32m    308\u001b[0m             \u001b[0mself\u001b[0m\u001b[0;34m.\u001b[0m\u001b[0mreset_states\u001b[0m\u001b[0;34m(\u001b[0m\u001b[0;34m)\u001b[0m\u001b[0;34m\u001b[0m\u001b[0;34m\u001b[0m\u001b[0m\n\u001b[0;32m--> 309\u001b[0;31m             \u001b[0mobservation\u001b[0m \u001b[0;34m=\u001b[0m \u001b[0mdeepcopy\u001b[0m\u001b[0;34m(\u001b[0m\u001b[0menv\u001b[0m\u001b[0;34m.\u001b[0m\u001b[0mreset\u001b[0m\u001b[0;34m(\u001b[0m\u001b[0;34m)\u001b[0m\u001b[0;34m)\u001b[0m\u001b[0;34m\u001b[0m\u001b[0;34m\u001b[0m\u001b[0m\n\u001b[0m\u001b[1;32m    310\u001b[0m             \u001b[0;32mif\u001b[0m \u001b[0mself\u001b[0m\u001b[0;34m.\u001b[0m\u001b[0mprocessor\u001b[0m \u001b[0;32mis\u001b[0m \u001b[0;32mnot\u001b[0m \u001b[0;32mNone\u001b[0m\u001b[0;34m:\u001b[0m\u001b[0;34m\u001b[0m\u001b[0;34m\u001b[0m\u001b[0m\n\u001b[1;32m    311\u001b[0m                 \u001b[0mobservation\u001b[0m \u001b[0;34m=\u001b[0m \u001b[0mself\u001b[0m\u001b[0;34m.\u001b[0m\u001b[0mprocessor\u001b[0m\u001b[0;34m.\u001b[0m\u001b[0mprocess_observation\u001b[0m\u001b[0;34m(\u001b[0m\u001b[0mobservation\u001b[0m\u001b[0;34m)\u001b[0m\u001b[0;34m\u001b[0m\u001b[0;34m\u001b[0m\u001b[0m\n",
            "\u001b[0;32m<ipython-input-10-d50f9d220e66>\u001b[0m in \u001b[0;36mreset\u001b[0;34m(self)\u001b[0m\n\u001b[1;32m     66\u001b[0m         \u001b[0md1\u001b[0m \u001b[0;34m=\u001b[0m \u001b[0mself\u001b[0m\u001b[0;34m.\u001b[0m\u001b[0mstartIndex\u001b[0m\u001b[0;34m\u001b[0m\u001b[0;34m\u001b[0m\u001b[0m\n\u001b[1;32m     67\u001b[0m         \u001b[0md2\u001b[0m \u001b[0;34m=\u001b[0m \u001b[0md1\u001b[0m \u001b[0;34m+\u001b[0m \u001b[0mself\u001b[0m\u001b[0;34m.\u001b[0m\u001b[0mDayStep\u001b[0m\u001b[0;34m\u001b[0m\u001b[0;34m\u001b[0m\u001b[0m\n\u001b[0;32m---> 68\u001b[0;31m         \u001b[0mself\u001b[0m\u001b[0;34m.\u001b[0m\u001b[0mDayStats\u001b[0m  \u001b[0;34m=\u001b[0m \u001b[0mgetStats\u001b[0m\u001b[0;34m(\u001b[0m \u001b[0mprices\u001b[0m\u001b[0;34m[\u001b[0m\u001b[0md1\u001b[0m\u001b[0;34m:\u001b[0m\u001b[0md2\u001b[0m\u001b[0;34m]\u001b[0m \u001b[0;34m)\u001b[0m\u001b[0;34m\u001b[0m\u001b[0;34m\u001b[0m\u001b[0m\n\u001b[0m\u001b[1;32m     69\u001b[0m \u001b[0;34m\u001b[0m\u001b[0m\n\u001b[1;32m     70\u001b[0m         \u001b[0mi1\u001b[0m \u001b[0;34m=\u001b[0m \u001b[0mself\u001b[0m\u001b[0;34m.\u001b[0m\u001b[0miwin\u001b[0m \u001b[0;34m-\u001b[0m \u001b[0mself\u001b[0m\u001b[0;34m.\u001b[0m\u001b[0mwindow\u001b[0m\u001b[0;34m\u001b[0m\u001b[0;34m\u001b[0m\u001b[0m\n",
            "\u001b[0;32m<ipython-input-9-7281b98e079f>\u001b[0m in \u001b[0;36mgetStats\u001b[0;34m(price_)\u001b[0m\n\u001b[1;32m     14\u001b[0m \u001b[0;32mdef\u001b[0m \u001b[0mgetStats\u001b[0m\u001b[0;34m(\u001b[0m\u001b[0mprice_\u001b[0m\u001b[0;34m)\u001b[0m\u001b[0;34m:\u001b[0m\u001b[0;34m\u001b[0m\u001b[0;34m\u001b[0m\u001b[0m\n\u001b[1;32m     15\u001b[0m   \u001b[0mres\u001b[0m  \u001b[0;34m=\u001b[0m \u001b[0;34m[\u001b[0m\u001b[0;34m]\u001b[0m\u001b[0;34m\u001b[0m\u001b[0;34m\u001b[0m\u001b[0m\n\u001b[0;32m---> 16\u001b[0;31m   \u001b[0msma5\u001b[0m \u001b[0;34m=\u001b[0m  \u001b[0mSMAOLD\u001b[0m\u001b[0;34m(\u001b[0m \u001b[0mprice_\u001b[0m\u001b[0;34m,\u001b[0m \u001b[0;36m5\u001b[0m  \u001b[0;34m)\u001b[0m\u001b[0;34m\u001b[0m\u001b[0;34m\u001b[0m\u001b[0m\n\u001b[0m\u001b[1;32m     17\u001b[0m   \u001b[0msma10\u001b[0m \u001b[0;34m=\u001b[0m \u001b[0mSMAOLD\u001b[0m\u001b[0;34m(\u001b[0m \u001b[0mprice_\u001b[0m\u001b[0;34m,\u001b[0m \u001b[0;36m10\u001b[0m \u001b[0;34m)\u001b[0m\u001b[0;34m\u001b[0m\u001b[0;34m\u001b[0m\u001b[0m\n\u001b[1;32m     18\u001b[0m   \u001b[0msma20\u001b[0m \u001b[0;34m=\u001b[0m \u001b[0mSMAOLD\u001b[0m\u001b[0;34m(\u001b[0m \u001b[0mprice_\u001b[0m\u001b[0;34m,\u001b[0m \u001b[0;36m20\u001b[0m \u001b[0;34m)\u001b[0m\u001b[0;34m\u001b[0m\u001b[0;34m\u001b[0m\u001b[0m\n",
            "\u001b[0;32m<ipython-input-9-7281b98e079f>\u001b[0m in \u001b[0;36mSMAOLD\u001b[0;34m(Data, Periodes)\u001b[0m\n\u001b[1;32m      1\u001b[0m \u001b[0;32mdef\u001b[0m \u001b[0mSMAOLD\u001b[0m\u001b[0;34m(\u001b[0m\u001b[0mData\u001b[0m\u001b[0;34m,\u001b[0m\u001b[0mPeriodes\u001b[0m\u001b[0;34m)\u001b[0m\u001b[0;34m:\u001b[0m\u001b[0;34m\u001b[0m\u001b[0;34m\u001b[0m\u001b[0m\n\u001b[1;32m      2\u001b[0m     \u001b[0mn\u001b[0m \u001b[0;34m=\u001b[0m \u001b[0mlen\u001b[0m\u001b[0;34m(\u001b[0m\u001b[0mData\u001b[0m\u001b[0;34m)\u001b[0m\u001b[0;34m-\u001b[0m\u001b[0;36m1\u001b[0m\u001b[0;34m\u001b[0m\u001b[0;34m\u001b[0m\u001b[0m\n\u001b[0;32m----> 3\u001b[0;31m     \u001b[0mres\u001b[0m \u001b[0;34m=\u001b[0m \u001b[0;34m[\u001b[0m\u001b[0mData\u001b[0m\u001b[0;34m[\u001b[0m\u001b[0;36m0\u001b[0m\u001b[0;34m]\u001b[0m\u001b[0;34m]\u001b[0m\u001b[0;34m\u001b[0m\u001b[0;34m\u001b[0m\u001b[0m\n\u001b[0m\u001b[1;32m      4\u001b[0m     \u001b[0;32mfor\u001b[0m \u001b[0mi\u001b[0m \u001b[0;32min\u001b[0m \u001b[0mrange\u001b[0m\u001b[0;34m(\u001b[0m\u001b[0;36m0\u001b[0m\u001b[0;34m,\u001b[0m\u001b[0mn\u001b[0m\u001b[0;34m)\u001b[0m\u001b[0;34m:\u001b[0m\u001b[0;34m\u001b[0m\u001b[0;34m\u001b[0m\u001b[0m\n\u001b[1;32m      5\u001b[0m       \u001b[0miSMA\u001b[0m \u001b[0;34m=\u001b[0m \u001b[0;36m0\u001b[0m\u001b[0;34m\u001b[0m\u001b[0;34m\u001b[0m\u001b[0m\n",
            "\u001b[0;31mIndexError\u001b[0m: index 0 is out of bounds for axis 0 with size 0"
          ]
        }
      ]
    },
    {
      "cell_type": "code",
      "metadata": {
        "id": "YbvVSonxI0jT"
      },
      "source": [
        ""
      ],
      "execution_count": null,
      "outputs": []
    },
    {
      "cell_type": "code",
      "metadata": {
        "colab": {
          "base_uri": "https://localhost:8080/"
        },
        "id": "MyLs1bLPYGKg",
        "outputId": "4b911ae8-efbe-4c5f-d630-98acd2bb9260"
      },
      "source": [
        "100000/60/23/20"
      ],
      "execution_count": null,
      "outputs": [
        {
          "data": {
            "text/plain": [
              "3.6231884057971016"
            ]
          },
          "execution_count": 19,
          "metadata": {
            "tags": []
          },
          "output_type": "execute_result"
        }
      ]
    },
    {
      "cell_type": "code",
      "metadata": {
        "colab": {
          "base_uri": "https://localhost:8080/"
        },
        "id": "x-Qa_kU4b_9g",
        "scrolled": true,
        "outputId": "8afc847e-4673-4549-9dc2-4840fb589eb1"
      },
      "source": [
        "#  hjgh\n",
        "sIndex                        = 0\n",
        "eIndex                        = 50000\n",
        "env = env1(    prices , TP, SL,0)\n",
        "FileVersion = \"K/Aminev250/\"\n",
        "time = datetime.now()\n",
        "time = time.strftime(\"%H-%M-%S\")\n",
        "render = 0\n",
        "steps = 400000\n",
        "Looping = 1\n",
        "NameSaving = \"testing\"\n",
        "for i in range(0,Looping):\n",
        "  dqn.fit(env, nb_steps=steps, visualize=False, verbose=2)\n",
        "  time_ = datetime.now()\n",
        "  time_ qqqqqq= time_.strftime(\"%H-%M-%S\")\n",
        "  NameSaving = FileVersion+time_+'/' +str(time_)+\".h5f\"\n",
        "  print('IIIIIIIIIIIIIIIIIIIIIIIIIIIIIIIIIIIIIIIIIIIIIIIIIIIIIIIIIIIIIIIIIIIIIIIIIIIIIIIIIIIIIIIIIIIIIIIIIIIIIIIIIIII') \n",
        "  print(NameSaving)\n",
        "  print('IIIIIIIIIIIIIIIIIIIIIIIIIIIIIIIIIIIIIIIIIIIIIIIIIIIIIIIIIIIIIIIIIIIIIIIIIIIIIIIIIIIIIIIIIIIIIIIIIIIIIIIIIIII')\n",
        "  dqn.save_weights(NameSaving, overwrite=True)"
      ],
      "execution_count": null,
      "outputs": [
        {
          "name": "stdout",
          "output_type": "stream",
          "text": [
            "  43131/400000: episode: 43131, duration: 0.061s, episode steps:   1, steps per second:  16, episode reward: 22.000, mean reward: 22.000 [22.000, 22.000], mean action: 1.000 [1.000, 1.000],  loss: 107.937973, mean_q: 3.265139, mean_eps: 0.100000\n",
            "  43132/400000: episode: 43132, duration: 0.048s, episode steps:   1, steps per second:  21, episode reward: 22.000, mean reward: 22.000 [22.000, 22.000], mean action: 1.000 [1.000, 1.000],  loss: 92.010933, mean_q: 3.389651, mean_eps: 0.100000\n",
            "  43133/400000: episode: 43133, duration: 0.044s, episode steps:   1, steps per second:  23, episode reward: 22.000, mean reward: 22.000 [22.000, 22.000], mean action: 0.000 [0.000, 0.000],  loss: 80.717499, mean_q: 3.431104, mean_eps: 0.100000\n",
            "  43134/400000: episode: 43134, duration: 0.047s, episode steps:   1, steps per second:  21, episode reward:  1.000, mean reward:  1.000 [ 1.000,  1.000], mean action: 2.000 [2.000, 2.000],  loss: 105.851593, mean_q: 2.701857, mean_eps: 0.100000\n",
            "  43135/400000: episode: 43135, duration: 0.047s, episode steps:   1, steps per second:  21, episode reward:  1.000, mean reward:  1.000 [ 1.000,  1.000], mean action: 2.000 [2.000, 2.000],  loss: 138.340210, mean_q: 2.711573, mean_eps: 0.100000\n",
            "  43136/400000: episode: 43136, duration: 0.062s, episode steps:   1, steps per second:  16, episode reward: 22.000, mean reward: 22.000 [22.000, 22.000], mean action: 1.000 [1.000, 1.000],  loss: 99.401558, mean_q: 2.607915, mean_eps: 0.100000\n",
            "  43137/400000: episode: 43137, duration: 0.047s, episode steps:   1, steps per second:  21, episode reward:  1.000, mean reward:  1.000 [ 1.000,  1.000], mean action: 2.000 [2.000, 2.000],  loss: 121.505615, mean_q: 3.299535, mean_eps: 0.100000\n",
            "  43138/400000: episode: 43138, duration: 0.051s, episode steps:   1, steps per second:  19, episode reward: 22.000, mean reward: 22.000 [22.000, 22.000], mean action: 0.000 [0.000, 0.000],  loss: 96.925095, mean_q: 4.380981, mean_eps: 0.100000\n",
            "  43139/400000: episode: 43139, duration: 0.050s, episode steps:   1, steps per second:  20, episode reward:  1.000, mean reward:  1.000 [ 1.000,  1.000], mean action: 2.000 [2.000, 2.000],  loss: 154.553040, mean_q: 2.772959, mean_eps: 0.100000\n",
            "  43140/400000: episode: 43140, duration: 0.053s, episode steps:   1, steps per second:  19, episode reward: 22.000, mean reward: 22.000 [22.000, 22.000], mean action: 0.000 [0.000, 0.000],  loss: 126.875725, mean_q: 2.211388, mean_eps: 0.100000\n",
            "  43141/400000: episode: 43141, duration: 0.060s, episode steps:   1, steps per second:  17, episode reward:  1.000, mean reward:  1.000 [ 1.000,  1.000], mean action: 2.000 [2.000, 2.000],  loss: 157.859299, mean_q: 2.279361, mean_eps: 0.100000\n",
            "  43142/400000: episode: 43142, duration: 0.048s, episode steps:   1, steps per second:  21, episode reward: -25.000, mean reward: -25.000 [-25.000, -25.000], mean action: 1.000 [1.000, 1.000],  loss: 119.594009, mean_q: 2.882693, mean_eps: 0.100000\n",
            "  43143/400000: episode: 43143, duration: 0.041s, episode steps:   1, steps per second:  24, episode reward: -25.000, mean reward: -25.000 [-25.000, -25.000], mean action: 1.000 [1.000, 1.000],  loss: 80.102318, mean_q: 3.280337, mean_eps: 0.100000\n",
            "  43144/400000: episode: 43144, duration: 0.043s, episode steps:   1, steps per second:  23, episode reward: -25.000, mean reward: -25.000 [-25.000, -25.000], mean action: 0.000 [0.000, 0.000],  loss: 100.706161, mean_q: 2.678006, mean_eps: 0.100000\n",
            "  43145/400000: episode: 43145, duration: 0.059s, episode steps:   1, steps per second:  17, episode reward: 22.000, mean reward: 22.000 [22.000, 22.000], mean action: 1.000 [1.000, 1.000],  loss: 143.286652, mean_q: 3.090288, mean_eps: 0.100000\n",
            "  43146/400000: episode: 43146, duration: 0.055s, episode steps:   1, steps per second:  18, episode reward: 22.000, mean reward: 22.000 [22.000, 22.000], mean action: 1.000 [1.000, 1.000],  loss: 113.415077, mean_q: 5.591163, mean_eps: 0.100000\n",
            "  43147/400000: episode: 43147, duration: 0.043s, episode steps:   1, steps per second:  23, episode reward:  1.000, mean reward:  1.000 [ 1.000,  1.000], mean action: 2.000 [2.000, 2.000],  loss: 193.795929, mean_q: 3.974811, mean_eps: 0.100000\n",
            "  43148/400000: episode: 43148, duration: 0.046s, episode steps:   1, steps per second:  22, episode reward:  1.000, mean reward:  1.000 [ 1.000,  1.000], mean action: 2.000 [2.000, 2.000],  loss: 128.619476, mean_q: 4.141768, mean_eps: 0.100000\n",
            "  43149/400000: episode: 43149, duration: 0.046s, episode steps:   1, steps per second:  22, episode reward:  1.000, mean reward:  1.000 [ 1.000,  1.000], mean action: 2.000 [2.000, 2.000],  loss: 102.072578, mean_q: 3.398913, mean_eps: 0.100000\n",
            "  43150/400000: episode: 43150, duration: 0.061s, episode steps:   1, steps per second:  16, episode reward: 22.000, mean reward: 22.000 [22.000, 22.000], mean action: 0.000 [0.000, 0.000],  loss: 94.023163, mean_q: 2.939965, mean_eps: 0.100000\n",
            "  43151/400000: episode: 43151, duration: 0.043s, episode steps:   1, steps per second:  23, episode reward: -25.000, mean reward: -25.000 [-25.000, -25.000], mean action: 0.000 [0.000, 0.000],  loss: 118.071022, mean_q: 4.106471, mean_eps: 0.100000\n",
            "  43152/400000: episode: 43152, duration: 0.044s, episode steps:   1, steps per second:  23, episode reward: 22.000, mean reward: 22.000 [22.000, 22.000], mean action: 0.000 [0.000, 0.000],  loss: 129.317627, mean_q: 2.278646, mean_eps: 0.100000\n",
            "  43153/400000: episode: 43153, duration: 0.041s, episode steps:   1, steps per second:  24, episode reward: 22.000, mean reward: 22.000 [22.000, 22.000], mean action: 1.000 [1.000, 1.000],  loss: 134.225571, mean_q: 2.321835, mean_eps: 0.100000\n",
            "  43154/400000: episode: 43154, duration: 0.047s, episode steps:   1, steps per second:  21, episode reward: 22.000, mean reward: 22.000 [22.000, 22.000], mean action: 1.000 [1.000, 1.000],  loss: 91.847221, mean_q: 2.837979, mean_eps: 0.100000\n",
            "  43155/400000: episode: 43155, duration: 0.060s, episode steps:   1, steps per second:  17, episode reward: 22.000, mean reward: 22.000 [22.000, 22.000], mean action: 1.000 [1.000, 1.000],  loss: 97.708076, mean_q: 2.700199, mean_eps: 0.100000\n",
            "  43156/400000: episode: 43156, duration: 0.046s, episode steps:   1, steps per second:  22, episode reward: 22.000, mean reward: 22.000 [22.000, 22.000], mean action: 1.000 [1.000, 1.000],  loss: 86.748474, mean_q: 3.969149, mean_eps: 0.100000\n",
            "  43157/400000: episode: 43157, duration: 0.047s, episode steps:   1, steps per second:  21, episode reward: 22.000, mean reward: 22.000 [22.000, 22.000], mean action: 1.000 [1.000, 1.000],  loss: 121.893883, mean_q: 2.192209, mean_eps: 0.100000\n",
            "  43158/400000: episode: 43158, duration: 0.049s, episode steps:   1, steps per second:  20, episode reward: -25.000, mean reward: -25.000 [-25.000, -25.000], mean action: 1.000 [1.000, 1.000],  loss: 75.520996, mean_q: 2.949812, mean_eps: 0.100000\n",
            "  43159/400000: episode: 43159, duration: 0.046s, episode steps:   1, steps per second:  22, episode reward: 22.000, mean reward: 22.000 [22.000, 22.000], mean action: 1.000 [1.000, 1.000],  loss: 121.931343, mean_q: 3.241446, mean_eps: 0.100000\n",
            "  43160/400000: episode: 43160, duration: 0.064s, episode steps:   1, steps per second:  16, episode reward: -25.000, mean reward: -25.000 [-25.000, -25.000], mean action: 0.000 [0.000, 0.000],  loss: 132.041290, mean_q: 2.634992, mean_eps: 0.100000\n",
            "  43161/400000: episode: 43161, duration: 0.053s, episode steps:   1, steps per second:  19, episode reward:  1.000, mean reward:  1.000 [ 1.000,  1.000], mean action: 2.000 [2.000, 2.000],  loss: 165.568680, mean_q: 3.955408, mean_eps: 0.100000\n",
            "  43162/400000: episode: 43162, duration: 0.047s, episode steps:   1, steps per second:  21, episode reward:  1.000, mean reward:  1.000 [ 1.000,  1.000], mean action: 2.000 [2.000, 2.000],  loss: 130.999237, mean_q: 2.403374, mean_eps: 0.100000\n",
            "  43163/400000: episode: 43163, duration: 0.046s, episode steps:   1, steps per second:  22, episode reward: 22.000, mean reward: 22.000 [22.000, 22.000], mean action: 0.000 [0.000, 0.000],  loss: 163.633438, mean_q: 3.052641, mean_eps: 0.100000\n",
            "  43164/400000: episode: 43164, duration: 0.046s, episode steps:   1, steps per second:  22, episode reward: 22.000, mean reward: 22.000 [22.000, 22.000], mean action: 1.000 [1.000, 1.000],  loss: 90.739983, mean_q: 2.799252, mean_eps: 0.100000\n",
            "  43165/400000: episode: 43165, duration: 0.055s, episode steps:   1, steps per second:  18, episode reward: 22.000, mean reward: 22.000 [22.000, 22.000], mean action: 1.000 [1.000, 1.000],  loss: 144.296280, mean_q: 2.062558, mean_eps: 0.100000\n",
            "  43166/400000: episode: 43166, duration: 0.045s, episode steps:   1, steps per second:  22, episode reward: -25.000, mean reward: -25.000 [-25.000, -25.000], mean action: 1.000 [1.000, 1.000],  loss: 84.767136, mean_q: 3.160921, mean_eps: 0.100000\n",
            "  43167/400000: episode: 43167, duration: 0.054s, episode steps:   1, steps per second:  19, episode reward:  1.000, mean reward:  1.000 [ 1.000,  1.000], mean action: 2.000 [2.000, 2.000],  loss: 75.377945, mean_q: 2.749072, mean_eps: 0.100000\n",
            "  43168/400000: episode: 43168, duration: 0.048s, episode steps:   1, steps per second:  21, episode reward:  1.000, mean reward:  1.000 [ 1.000,  1.000], mean action: 2.000 [2.000, 2.000],  loss: 178.960968, mean_q: 3.966409, mean_eps: 0.100000\n",
            "  43169/400000: episode: 43169, duration: 0.047s, episode steps:   1, steps per second:  21, episode reward: 22.000, mean reward: 22.000 [22.000, 22.000], mean action: 0.000 [0.000, 0.000],  loss: 95.828712, mean_q: 3.125053, mean_eps: 0.100000\n",
            "  43170/400000: episode: 43170, duration: 0.066s, episode steps:   1, steps per second:  15, episode reward: 22.000, mean reward: 22.000 [22.000, 22.000], mean action: 1.000 [1.000, 1.000],  loss: 101.442749, mean_q: 1.798319, mean_eps: 0.100000\n",
            "  43171/400000: episode: 43171, duration: 0.048s, episode steps:   1, steps per second:  21, episode reward: 22.000, mean reward: 22.000 [22.000, 22.000], mean action: 1.000 [1.000, 1.000],  loss: 127.456955, mean_q: 2.841236, mean_eps: 0.100000\n",
            "  43172/400000: episode: 43172, duration: 0.046s, episode steps:   1, steps per second:  22, episode reward: -25.000, mean reward: -25.000 [-25.000, -25.000], mean action: 1.000 [1.000, 1.000],  loss: 136.744415, mean_q: 2.614358, mean_eps: 0.100000\n",
            "  43173/400000: episode: 43173, duration: 0.049s, episode steps:   1, steps per second:  20, episode reward: 22.000, mean reward: 22.000 [22.000, 22.000], mean action: 0.000 [0.000, 0.000],  loss: 130.194107, mean_q: 2.994857, mean_eps: 0.100000\n",
            "  43174/400000: episode: 43174, duration: 0.048s, episode steps:   1, steps per second:  21, episode reward:  1.000, mean reward:  1.000 [ 1.000,  1.000], mean action: 2.000 [2.000, 2.000],  loss: 113.077621, mean_q: 2.734979, mean_eps: 0.100000\n",
            "  43175/400000: episode: 43175, duration: 0.065s, episode steps:   1, steps per second:  15, episode reward:  1.000, mean reward:  1.000 [ 1.000,  1.000], mean action: 2.000 [2.000, 2.000],  loss: 183.024628, mean_q: 2.719707, mean_eps: 0.100000\n",
            "  43176/400000: episode: 43176, duration: 0.043s, episode steps:   1, steps per second:  23, episode reward: -25.000, mean reward: -25.000 [-25.000, -25.000], mean action: 1.000 [1.000, 1.000],  loss: 94.009880, mean_q: 2.027770, mean_eps: 0.100000\n",
            "  43177/400000: episode: 43177, duration: 0.044s, episode steps:   1, steps per second:  23, episode reward:  1.000, mean reward:  1.000 [ 1.000,  1.000], mean action: 2.000 [2.000, 2.000],  loss: 115.082924, mean_q: 3.283144, mean_eps: 0.100000\n",
            "  43178/400000: episode: 43178, duration: 0.043s, episode steps:   1, steps per second:  23, episode reward:  1.000, mean reward:  1.000 [ 1.000,  1.000], mean action: 2.000 [2.000, 2.000],  loss: 111.970543, mean_q: 4.126639, mean_eps: 0.100000\n",
            "  43179/400000: episode: 43179, duration: 0.045s, episode steps:   1, steps per second:  22, episode reward:  1.000, mean reward:  1.000 [ 1.000,  1.000], mean action: 2.000 [2.000, 2.000],  loss: 129.209534, mean_q: 3.077149, mean_eps: 0.100000\n",
            "  43180/400000: episode: 43180, duration: 0.058s, episode steps:   1, steps per second:  17, episode reward: 22.000, mean reward: 22.000 [22.000, 22.000], mean action: 0.000 [0.000, 0.000],  loss: 130.665848, mean_q: 3.279820, mean_eps: 0.100000\n",
            "  43181/400000: episode: 43181, duration: 0.050s, episode steps:   1, steps per second:  20, episode reward:  1.000, mean reward:  1.000 [ 1.000,  1.000], mean action: 2.000 [2.000, 2.000],  loss: 154.176071, mean_q: 4.723650, mean_eps: 0.100000\n",
            "  43182/400000: episode: 43182, duration: 0.044s, episode steps:   1, steps per second:  23, episode reward:  1.000, mean reward:  1.000 [ 1.000,  1.000], mean action: 2.000 [2.000, 2.000],  loss: 134.844177, mean_q: 3.266877, mean_eps: 0.100000\n",
            "  43183/400000: episode: 43183, duration: 0.044s, episode steps:   1, steps per second:  23, episode reward: -25.000, mean reward: -25.000 [-25.000, -25.000], mean action: 1.000 [1.000, 1.000],  loss: 102.289688, mean_q: 3.790727, mean_eps: 0.100000\n",
            "  43184/400000: episode: 43184, duration: 0.045s, episode steps:   1, steps per second:  22, episode reward:  1.000, mean reward:  1.000 [ 1.000,  1.000], mean action: 2.000 [2.000, 2.000],  loss: 131.922974, mean_q: 4.006838, mean_eps: 0.100000\n",
            "  43185/400000: episode: 43185, duration: 0.060s, episode steps:   1, steps per second:  17, episode reward: 22.000, mean reward: 22.000 [22.000, 22.000], mean action: 1.000 [1.000, 1.000],  loss: 99.453163, mean_q: 4.000313, mean_eps: 0.100000\n",
            "  43186/400000: episode: 43186, duration: 0.043s, episode steps:   1, steps per second:  23, episode reward:  1.000, mean reward:  1.000 [ 1.000,  1.000], mean action: 2.000 [2.000, 2.000],  loss: 101.365982, mean_q: 2.448856, mean_eps: 0.100000\n",
            "  43187/400000: episode: 43187, duration: 0.056s, episode steps:   1, steps per second:  18, episode reward: -25.000, mean reward: -25.000 [-25.000, -25.000], mean action: 1.000 [1.000, 1.000],  loss: 51.074135, mean_q: 3.237194, mean_eps: 0.100000\n",
            "  43188/400000: episode: 43188, duration: 0.046s, episode steps:   1, steps per second:  22, episode reward: 22.000, mean reward: 22.000 [22.000, 22.000], mean action: 0.000 [0.000, 0.000],  loss: 135.017319, mean_q: 3.069572, mean_eps: 0.100000\n",
            "  43189/400000: episode: 43189, duration: 0.044s, episode steps:   1, steps per second:  23, episode reward: -25.000, mean reward: -25.000 [-25.000, -25.000], mean action: 0.000 [0.000, 0.000],  loss: 99.366043, mean_q: 2.738696, mean_eps: 0.100000\n",
            "  43190/400000: episode: 43190, duration: 0.067s, episode steps:   1, steps per second:  15, episode reward: 22.000, mean reward: 22.000 [22.000, 22.000], mean action: 0.000 [0.000, 0.000],  loss: 92.296288, mean_q: 4.326710, mean_eps: 0.100000\n",
            "  43191/400000: episode: 43191, duration: 0.043s, episode steps:   1, steps per second:  23, episode reward:  1.000, mean reward:  1.000 [ 1.000,  1.000], mean action: 2.000 [2.000, 2.000],  loss: 99.298111, mean_q: 4.062921, mean_eps: 0.100000\n",
            "  43192/400000: episode: 43192, duration: 0.042s, episode steps:   1, steps per second:  24, episode reward:  1.000, mean reward:  1.000 [ 1.000,  1.000], mean action: 2.000 [2.000, 2.000],  loss: 138.694275, mean_q: 2.833032, mean_eps: 0.100000\n",
            "  43193/400000: episode: 43193, duration: 0.044s, episode steps:   1, steps per second:  23, episode reward: -25.000, mean reward: -25.000 [-25.000, -25.000], mean action: 1.000 [1.000, 1.000],  loss: 94.260361, mean_q: 2.398179, mean_eps: 0.100000\n",
            "  43194/400000: episode: 43194, duration: 0.047s, episode steps:   1, steps per second:  21, episode reward: 22.000, mean reward: 22.000 [22.000, 22.000], mean action: 1.000 [1.000, 1.000],  loss: 135.647552, mean_q: 2.939764, mean_eps: 0.100000\n",
            "  43195/400000: episode: 43195, duration: 0.061s, episode steps:   1, steps per second:  16, episode reward: 22.000, mean reward: 22.000 [22.000, 22.000], mean action: 1.000 [1.000, 1.000],  loss: 116.187256, mean_q: 2.937910, mean_eps: 0.100000\n",
            "  43196/400000: episode: 43196, duration: 0.045s, episode steps:   1, steps per second:  22, episode reward:  1.000, mean reward:  1.000 [ 1.000,  1.000], mean action: 2.000 [2.000, 2.000],  loss: 75.700943, mean_q: 3.222739, mean_eps: 0.100000\n",
            "  43197/400000: episode: 43197, duration: 0.049s, episode steps:   1, steps per second:  20, episode reward:  1.000, mean reward:  1.000 [ 1.000,  1.000], mean action: 2.000 [2.000, 2.000],  loss: 95.468155, mean_q: 3.587622, mean_eps: 0.100000\n",
            "  43198/400000: episode: 43198, duration: 0.046s, episode steps:   1, steps per second:  22, episode reward:  1.000, mean reward:  1.000 [ 1.000,  1.000], mean action: 2.000 [2.000, 2.000],  loss: 119.067200, mean_q: 4.257917, mean_eps: 0.100000\n",
            "  43199/400000: episode: 43199, duration: 0.046s, episode steps:   1, steps per second:  22, episode reward:  1.000, mean reward:  1.000 [ 1.000,  1.000], mean action: 2.000 [2.000, 2.000],  loss: 94.391563, mean_q: 4.297750, mean_eps: 0.100000\n",
            "  43200/400000: episode: 43200, duration: 0.065s, episode steps:   1, steps per second:  15, episode reward:  1.000, mean reward:  1.000 [ 1.000,  1.000], mean action: 2.000 [2.000, 2.000],  loss: 111.759781, mean_q: 3.323253, mean_eps: 0.100000\n",
            "  43201/400000: episode: 43201, duration: 0.047s, episode steps:   1, steps per second:  21, episode reward:  1.000, mean reward:  1.000 [ 1.000,  1.000], mean action: 2.000 [2.000, 2.000],  loss: 100.569931, mean_q: 3.852962, mean_eps: 0.100000\n",
            "  43202/400000: episode: 43202, duration: 0.044s, episode steps:   1, steps per second:  22, episode reward:  1.000, mean reward:  1.000 [ 1.000,  1.000], mean action: 2.000 [2.000, 2.000],  loss: 192.101501, mean_q: 2.676534, mean_eps: 0.100000\n",
            "  43203/400000: episode: 43203, duration: 0.049s, episode steps:   1, steps per second:  20, episode reward:  1.000, mean reward:  1.000 [ 1.000,  1.000], mean action: 2.000 [2.000, 2.000],  loss: 101.115570, mean_q: 3.455958, mean_eps: 0.100000\n",
            "  43204/400000: episode: 43204, duration: 0.047s, episode steps:   1, steps per second:  21, episode reward: 22.000, mean reward: 22.000 [22.000, 22.000], mean action: 0.000 [0.000, 0.000],  loss: 130.900970, mean_q: 5.017708, mean_eps: 0.100000\n",
            "  43205/400000: episode: 43205, duration: 0.065s, episode steps:   1, steps per second:  15, episode reward:  1.000, mean reward:  1.000 [ 1.000,  1.000], mean action: 2.000 [2.000, 2.000],  loss: 115.126900, mean_q: 3.663652, mean_eps: 0.100000\n",
            "  43206/400000: episode: 43206, duration: 0.045s, episode steps:   1, steps per second:  22, episode reward:  1.000, mean reward:  1.000 [ 1.000,  1.000], mean action: 2.000 [2.000, 2.000],  loss: 128.743683, mean_q: 3.344906, mean_eps: 0.100000\n",
            "  43207/400000: episode: 43207, duration: 0.050s, episode steps:   1, steps per second:  20, episode reward: 22.000, mean reward: 22.000 [22.000, 22.000], mean action: 0.000 [0.000, 0.000],  loss: 106.285934, mean_q: 2.751666, mean_eps: 0.100000\n",
            "  43208/400000: episode: 43208, duration: 0.047s, episode steps:   1, steps per second:  21, episode reward:  1.000, mean reward:  1.000 [ 1.000,  1.000], mean action: 2.000 [2.000, 2.000],  loss: 175.403946, mean_q: 3.316848, mean_eps: 0.100000\n",
            "  43209/400000: episode: 43209, duration: 0.045s, episode steps:   1, steps per second:  22, episode reward: -25.000, mean reward: -25.000 [-25.000, -25.000], mean action: 0.000 [0.000, 0.000],  loss: 162.286316, mean_q: 3.169450, mean_eps: 0.100000\n",
            "  43210/400000: episode: 43210, duration: 0.055s, episode steps:   1, steps per second:  18, episode reward: -25.000, mean reward: -25.000 [-25.000, -25.000], mean action: 0.000 [0.000, 0.000],  loss: 136.795990, mean_q: 3.153671, mean_eps: 0.100000\n",
            "  43211/400000: episode: 43211, duration: 0.043s, episode steps:   1, steps per second:  23, episode reward: 22.000, mean reward: 22.000 [22.000, 22.000], mean action: 1.000 [1.000, 1.000],  loss: 102.207146, mean_q: 2.779380, mean_eps: 0.100000\n",
            "  43212/400000: episode: 43212, duration: 0.046s, episode steps:   1, steps per second:  22, episode reward:  1.000, mean reward:  1.000 [ 1.000,  1.000], mean action: 2.000 [2.000, 2.000],  loss: 157.830048, mean_q: 3.144224, mean_eps: 0.100000\n",
            "  43213/400000: episode: 43213, duration: 0.046s, episode steps:   1, steps per second:  22, episode reward:  1.000, mean reward:  1.000 [ 1.000,  1.000], mean action: 2.000 [2.000, 2.000],  loss: 93.087402, mean_q: 3.108722, mean_eps: 0.100000\n",
            "  43214/400000: episode: 43214, duration: 0.056s, episode steps:   1, steps per second:  18, episode reward: -25.000, mean reward: -25.000 [-25.000, -25.000], mean action: 1.000 [1.000, 1.000],  loss: 158.264069, mean_q: 2.004213, mean_eps: 0.100000\n",
            "  43215/400000: episode: 43215, duration: 0.061s, episode steps:   1, steps per second:  17, episode reward: 22.000, mean reward: 22.000 [22.000, 22.000], mean action: 0.000 [0.000, 0.000],  loss: 124.546265, mean_q: 3.386676, mean_eps: 0.100000\n",
            "  43216/400000: episode: 43216, duration: 0.047s, episode steps:   1, steps per second:  21, episode reward:  1.000, mean reward:  1.000 [ 1.000,  1.000], mean action: 2.000 [2.000, 2.000],  loss: 79.491058, mean_q: 3.243889, mean_eps: 0.100000\n",
            "  43217/400000: episode: 43217, duration: 0.048s, episode steps:   1, steps per second:  21, episode reward: 22.000, mean reward: 22.000 [22.000, 22.000], mean action: 1.000 [1.000, 1.000],  loss: 105.203743, mean_q: 3.232826, mean_eps: 0.100000\n",
            "  43218/400000: episode: 43218, duration: 0.050s, episode steps:   1, steps per second:  20, episode reward:  1.000, mean reward:  1.000 [ 1.000,  1.000], mean action: 2.000 [2.000, 2.000],  loss: 99.460007, mean_q: 2.393745, mean_eps: 0.100000\n",
            "  43219/400000: episode: 43219, duration: 0.046s, episode steps:   1, steps per second:  22, episode reward: 22.000, mean reward: 22.000 [22.000, 22.000], mean action: 1.000 [1.000, 1.000],  loss: 146.151306, mean_q: 2.649799, mean_eps: 0.100000\n",
            "  43220/400000: episode: 43220, duration: 0.064s, episode steps:   1, steps per second:  16, episode reward: 22.000, mean reward: 22.000 [22.000, 22.000], mean action: 0.000 [0.000, 0.000],  loss: 121.822906, mean_q: 2.485956, mean_eps: 0.100000\n",
            "  43221/400000: episode: 43221, duration: 0.045s, episode steps:   1, steps per second:  22, episode reward: 22.000, mean reward: 22.000 [22.000, 22.000], mean action: 0.000 [0.000, 0.000],  loss: 126.238907, mean_q: 2.580889, mean_eps: 0.100000\n",
            "  43222/400000: episode: 43222, duration: 0.048s, episode steps:   1, steps per second:  21, episode reward: 22.000, mean reward: 22.000 [22.000, 22.000], mean action: 0.000 [0.000, 0.000],  loss: 92.961517, mean_q: 3.382264, mean_eps: 0.100000\n",
            "  43223/400000: episode: 43223, duration: 0.042s, episode steps:   1, steps per second:  24, episode reward: -25.000, mean reward: -25.000 [-25.000, -25.000], mean action: 0.000 [0.000, 0.000],  loss: 121.743591, mean_q: 3.719429, mean_eps: 0.100000\n",
            "  43224/400000: episode: 43224, duration: 0.047s, episode steps:   1, steps per second:  21, episode reward: -25.000, mean reward: -25.000 [-25.000, -25.000], mean action: 1.000 [1.000, 1.000],  loss: 131.926102, mean_q: 4.048938, mean_eps: 0.100000\n",
            "  43225/400000: episode: 43225, duration: 0.057s, episode steps:   1, steps per second:  18, episode reward:  1.000, mean reward:  1.000 [ 1.000,  1.000], mean action: 2.000 [2.000, 2.000],  loss: 129.848434, mean_q: 2.367433, mean_eps: 0.100000\n",
            "  43226/400000: episode: 43226, duration: 0.045s, episode steps:   1, steps per second:  22, episode reward:  1.000, mean reward:  1.000 [ 1.000,  1.000], mean action: 2.000 [2.000, 2.000],  loss: 118.377640, mean_q: 5.593804, mean_eps: 0.100000\n",
            "  43227/400000: episode: 43227, duration: 0.057s, episode steps:   1, steps per second:  18, episode reward: 22.000, mean reward: 22.000 [22.000, 22.000], mean action: 1.000 [1.000, 1.000],  loss: 187.135941, mean_q: 3.213130, mean_eps: 0.100000\n",
            "  43228/400000: episode: 43228, duration: 0.045s, episode steps:   1, steps per second:  22, episode reward: 22.000, mean reward: 22.000 [22.000, 22.000], mean action: 0.000 [0.000, 0.000],  loss: 141.106522, mean_q: 3.086081, mean_eps: 0.100000\n",
            "  43229/400000: episode: 43229, duration: 0.044s, episode steps:   1, steps per second:  23, episode reward: 22.000, mean reward: 22.000 [22.000, 22.000], mean action: 0.000 [0.000, 0.000],  loss: 138.855911, mean_q: 2.757775, mean_eps: 0.100000\n",
            "  43230/400000: episode: 43230, duration: 0.059s, episode steps:   1, steps per second:  17, episode reward: 22.000, mean reward: 22.000 [22.000, 22.000], mean action: 0.000 [0.000, 0.000],  loss: 117.855988, mean_q: 4.273865, mean_eps: 0.100000\n",
            "  43231/400000: episode: 43231, duration: 0.047s, episode steps:   1, steps per second:  21, episode reward:  1.000, mean reward:  1.000 [ 1.000,  1.000], mean action: 2.000 [2.000, 2.000],  loss: 123.643188, mean_q: 2.292616, mean_eps: 0.100000\n",
            "done, took 2083.446 seconds\n",
            "IIIIIIIIIIIIIIIIIIIIIIIIIIIIIIIIIIIIIIIIIIIIIIIIIIIIIIIIIIIIIIIIIIIIIIIIIIIIIIIIIIIIIIIIIIIIIIIIIIIIIIIIIIII\n",
            "K/Aminev250/19-20-29/19-20-29.h5f\n",
            "IIIIIIIIIIIIIIIIIIIIIIIIIIIIIIIIIIIIIIIIIIIIIIIIIIIIIIIIIIIIIIIIIIIIIIIIIIIIIIIIIIIIIIIIIIIIIIIIIIIIIIIIIIII\n"
          ]
        }
      ]
    },
    {
      "cell_type": "code",
      "metadata": {
        "id": "M1a4FI2rkNpn"
      },
      "source": [
        "loss 200"
      ],
      "execution_count": null,
      "outputs": []
    }
  ]
}