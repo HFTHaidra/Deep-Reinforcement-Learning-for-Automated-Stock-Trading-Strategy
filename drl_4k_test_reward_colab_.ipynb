{
  "nbformat": 4,
  "nbformat_minor": 0,
  "metadata": {
    "colab": {
      "name": "drl-4k test reward colab .ipynb",
      "provenance": [],
      "collapsed_sections": []
    },
    "kernelspec": {
      "display_name": "Python 3",
      "language": "python",
      "name": "python3"
    },
    "language_info": {
      "codemirror_mode": {
        "name": "ipython",
        "version": 3
      },
      "file_extension": ".py",
      "mimetype": "text/x-python",
      "name": "python",
      "nbconvert_exporter": "python",
      "pygments_lexer": "ipython3",
      "version": "3.7.10"
    }
  },
  "cells": [
    {
      "cell_type": "code",
      "metadata": {
        "id": "eSw9ZKnzh8G7"
      },
      "source": [
        "# Install bob\n",
        "# -------------------------------------------------------\n",
        "# -------------------------------------------------------\n",
        "!pip install gym keras keras-rl2 tensorflow==2.1"
      ],
      "execution_count": null,
      "outputs": []
    },
    {
      "cell_type": "code",
      "metadata": {
        "id": "3ataAvPBifY5",
        "colab": {
          "base_uri": "https://localhost:8080/"
        },
        "outputId": "d73b9ee8-c729-4ef3-be4d-54410cc45b43"
      },
      "source": [
        "from google.colab import drive\n",
        "drive.mount('/content/drive')"
      ],
      "execution_count": null,
      "outputs": [
        {
          "output_type": "stream",
          "text": [
            "Mounted at /content/drive\n"
          ],
          "name": "stdout"
        }
      ]
    },
    {
      "cell_type": "code",
      "metadata": {
        "id": "7KeEx4Deh8HJ"
      },
      "source": [
        "import pandas as pd\n",
        "from datetime import datetime as dt\n",
        "import matplotlib.pyplot as plt\n",
        "import numpy as np\n",
        "from numpy import asarray\n",
        "from numpy import savetxt\n",
        "from numpy import loadtxt\n",
        "import os\n",
        "import pandas as pd \n",
        "from datetime import datetime as dt\n",
        "from gym import Env\n",
        "from gym.spaces import Discrete, Box\n",
        "import numpy as np\n",
        "from numpy import loadtxt\n",
        "from datetime import datetime\n",
        "from numpy import savetxt\n",
        "import random ; from random import randint\n",
        "import matplotlib.pyplot as plt\n",
        "from tensorflow.keras.models import Sequential\n",
        "from tensorflow.keras.layers import Activation, Dense , Flatten \n",
        "from tensorflow.keras.optimizers import Adam\n",
        "from rl.policy import * ; from rl.memory import * ; from rl.agents import *"
      ],
      "execution_count": null,
      "outputs": []
    },
    {
      "cell_type": "code",
      "metadata": {
        "id": "AtHFnkfwh8HP"
      },
      "source": [
        "# Global Varaile\n",
        "# -------------------------------------------------------\n",
        "# -------------------------------------------------------\n",
        "Memoryin_window_length      = 10\n",
        "window_width                = 64\n",
        "window_height               = 32\n",
        "ob_space_Length             = 3\n",
        "actions                     = 3\n",
        "MemoryLimit                 = 10000\n",
        "#-----------------------------------------------------------\n",
        "fee                         = 1\n",
        "SL                          = 20\n",
        "TP                          = 20\n",
        "#------------------------------------------------------------\n",
        "next_trade_one_day          = 10\n",
        "nb_trade_one_day            = 20\n",
        "nb_barsM1_for_testing_res   =1300*2 "
      ],
      "execution_count": null,
      "outputs": []
    },
    {
      "cell_type": "code",
      "metadata": {
        "id": "fDAXMYVNh8HT"
      },
      "source": [
        "# fun\n",
        "# -------------------------------------------------------\n",
        "\n",
        "def get_local_data():\n",
        "\tdf = pd.read_csv ('/content/drive/MyDrive/DATA/2020.csv',encoding='utf-16',header=None, names=['Date', 'Open','High','Low','Close'])\n",
        "\treturn df\n",
        "\n",
        "def get_matrix( width , height ):\t \n",
        "\t#arr      = np.empty((height,width), dtype=object);marke    = ' '\n",
        "\tarr      = np.empty((height,width), dtype=np.float16 );marke    = 0\n",
        "\tfor i in range(0,height):\n",
        "\t\tfor j in range(0,width): \n",
        "\t\t\tarr[i,j] = marke\n",
        "\treturn arr  \n",
        "def print_matrix(m):\n",
        "\tline = '\\n array :(' + str( len(m) ) + ',' + str( len(m[0]) ) + ')'\n",
        "\tfor i in range( 0 , len(m) ): \n",
        "\t\tline += '\\n'\n",
        "\t\tfor j in range(0, len(m[0]) ): \n",
        "\t\t\tline += str( m[i,j]  )\t\n",
        "\tprint(line)\n",
        "   \n",
        "# -------------------------------------------------------\n",
        "def plot_line_v2(line,ax,ay):\n",
        "    x  = line\n",
        "    y = np.arange(0,len(x) )\n",
        "    plt.figure( figsize=(ax,ay) )\n",
        "    plt.title('Simple Graphe')\n",
        "    plt.xlabel('Date',fontsize=18)\n",
        "    plt.ylabel('Prices USD',fontsize=18)\n",
        "    plt.plot(  y , x )\n",
        "    plt.legend( [ 'Open' ,  'Close' ] ,loc='lower right' )\n",
        "    plt.show()    \n",
        "#---------------------------------------------------------     \n",
        "def reshape(v,window_height): #40\n",
        "    max_ = max(v)\n",
        "    min_ = min(v)\n",
        "    res = (v - min_)/(max_-min_)\n",
        "    res =  np.round( res , 2 )*window_height\n",
        "    res = res.astype(int) \n",
        "    return res\n",
        "#---------------------------------------------------------    \n",
        "def get_micro(price,window_height):\n",
        "    reshape_price = reshape ( price , window_height )\n",
        "    new = get_matrix( len(price) ,window_height)\n",
        "    for i in range(0, new.shape[1] ): \n",
        "        G = window_height - reshape_price[i] - 1\n",
        "        new[ G ,  i  ] = 0.5\n",
        "    #new = new.astype(np.float32)    \n",
        "    return new\n",
        "#--------------------------------------------------------- \n",
        "def get_data( dataset, period_current, iTime_index, range_bars ):\n",
        "    res      = np.array( data[iTime_index-range_bars*period_current:iTime_index] )\n",
        "    res      = res[:,1] # Close\n",
        "    if(period_current>1):\n",
        "        Bg_res = res\n",
        "        res =  np.empty(range_bars, dtype=np.float32)\n",
        "        i_res = 0\n",
        "        for i in range( 0, len(Bg_res) ):\n",
        "            #print( ' i = ',i,' mod =  ' , i%period_current , ' val = ',Bg_res[i] )\n",
        "            if(i%period_current==0):\n",
        "                res[i_res] = Bg_res[i]\n",
        "                i_res +=1\n",
        "    return res   \n",
        "# ================================================================\n",
        "def isShort( indexStart ): \n",
        "  global data , TP , SL , fee\n",
        "  prices = get_data( data , 1  , indexStart , nb_barsM1_for_testing_res )\n",
        "  res = -1\n",
        "  for i in range(0,nb_barsM1_for_testing_res):\n",
        "    if( prices[i] <= (prices[0]-TP) ):\n",
        "      res = TP - fee\n",
        "      break\n",
        "    if( prices[i] >= (prices[0]+SL) ):\n",
        "      res = -SL \n",
        "      break\n",
        "  return res \n",
        "def isLong( indexStart ):\n",
        "  global data , TP , SL , fee\n",
        "  prices = get_data( data , 1  , indexStart , nb_barsM1_for_testing_res )\n",
        "  res = -1\n",
        "  for i in range(0,nb_barsM1_for_testing_res):\n",
        "    if( prices[i] >= (prices[0]+TP) ):\n",
        "      res = TP - fee\n",
        "      break\n",
        "    if( prices[i] <= (prices[0]-SL) ):\n",
        "      res = -SL \n",
        "      break\n",
        "  return res\n",
        "def show():\n",
        "  global AllReward\n",
        "  v = 0\n",
        "  v_v = []\n",
        "  for i in range(0,len(AllReward)):\n",
        "    v += AllReward[i]\n",
        "    v_v.append(v)\n",
        "  print( ' AllReward = ',v_v[len(v_v)-1] )\n",
        "  plot_line_v2(v_v,18,7)\n"
      ],
      "execution_count": null,
      "outputs": []
    },
    {
      "cell_type": "code",
      "metadata": {
        "colab": {
          "base_uri": "https://localhost:8080/",
          "height": 419
        },
        "id": "8sBge_ckh8Ha",
        "outputId": "3077f73c-4535-45bd-b896-a44a0c0b296c"
      },
      "source": [
        "# Get Data \n",
        "data =   pd.read_csv('/content/drive/MyDrive/DATA/US30_from2021.csv',encoding='utf-16',header=None, names=['Date', 'Open','High','Low','Close'])\n",
        "data"
      ],
      "execution_count": null,
      "outputs": [
        {
          "output_type": "execute_result",
          "data": {
            "text/html": [
              "<div>\n",
              "<style scoped>\n",
              "    .dataframe tbody tr th:only-of-type {\n",
              "        vertical-align: middle;\n",
              "    }\n",
              "\n",
              "    .dataframe tbody tr th {\n",
              "        vertical-align: top;\n",
              "    }\n",
              "\n",
              "    .dataframe thead th {\n",
              "        text-align: right;\n",
              "    }\n",
              "</style>\n",
              "<table border=\"1\" class=\"dataframe\">\n",
              "  <thead>\n",
              "    <tr style=\"text-align: right;\">\n",
              "      <th></th>\n",
              "      <th>Date</th>\n",
              "      <th>Open</th>\n",
              "      <th>High</th>\n",
              "      <th>Low</th>\n",
              "      <th>Close</th>\n",
              "    </tr>\n",
              "  </thead>\n",
              "  <tbody>\n",
              "    <tr>\n",
              "      <th>0</th>\n",
              "      <td>1609459140</td>\n",
              "      <td>30603.0</td>\n",
              "      <td>NaN</td>\n",
              "      <td>NaN</td>\n",
              "      <td>NaN</td>\n",
              "    </tr>\n",
              "    <tr>\n",
              "      <th>1</th>\n",
              "      <td>1609722000</td>\n",
              "      <td>30606.0</td>\n",
              "      <td>NaN</td>\n",
              "      <td>NaN</td>\n",
              "      <td>NaN</td>\n",
              "    </tr>\n",
              "    <tr>\n",
              "      <th>2</th>\n",
              "      <td>1609722060</td>\n",
              "      <td>30595.0</td>\n",
              "      <td>NaN</td>\n",
              "      <td>NaN</td>\n",
              "      <td>NaN</td>\n",
              "    </tr>\n",
              "    <tr>\n",
              "      <th>3</th>\n",
              "      <td>1609722120</td>\n",
              "      <td>30569.0</td>\n",
              "      <td>NaN</td>\n",
              "      <td>NaN</td>\n",
              "      <td>NaN</td>\n",
              "    </tr>\n",
              "    <tr>\n",
              "      <th>4</th>\n",
              "      <td>1609722180</td>\n",
              "      <td>30573.0</td>\n",
              "      <td>NaN</td>\n",
              "      <td>NaN</td>\n",
              "      <td>NaN</td>\n",
              "    </tr>\n",
              "    <tr>\n",
              "      <th>...</th>\n",
              "      <td>...</td>\n",
              "      <td>...</td>\n",
              "      <td>...</td>\n",
              "      <td>...</td>\n",
              "      <td>...</td>\n",
              "    </tr>\n",
              "    <tr>\n",
              "      <th>105864</th>\n",
              "      <td>1619049240</td>\n",
              "      <td>34110.0</td>\n",
              "      <td>NaN</td>\n",
              "      <td>NaN</td>\n",
              "      <td>NaN</td>\n",
              "    </tr>\n",
              "    <tr>\n",
              "      <th>105865</th>\n",
              "      <td>1619049300</td>\n",
              "      <td>34108.0</td>\n",
              "      <td>NaN</td>\n",
              "      <td>NaN</td>\n",
              "      <td>NaN</td>\n",
              "    </tr>\n",
              "    <tr>\n",
              "      <th>105866</th>\n",
              "      <td>1619049360</td>\n",
              "      <td>34110.0</td>\n",
              "      <td>NaN</td>\n",
              "      <td>NaN</td>\n",
              "      <td>NaN</td>\n",
              "    </tr>\n",
              "    <tr>\n",
              "      <th>105867</th>\n",
              "      <td>1619049420</td>\n",
              "      <td>34109.0</td>\n",
              "      <td>NaN</td>\n",
              "      <td>NaN</td>\n",
              "      <td>NaN</td>\n",
              "    </tr>\n",
              "    <tr>\n",
              "      <th>105868</th>\n",
              "      <td>1619049480</td>\n",
              "      <td>34108.0</td>\n",
              "      <td>NaN</td>\n",
              "      <td>NaN</td>\n",
              "      <td>NaN</td>\n",
              "    </tr>\n",
              "  </tbody>\n",
              "</table>\n",
              "<p>105869 rows × 5 columns</p>\n",
              "</div>"
            ],
            "text/plain": [
              "              Date     Open  High  Low  Close\n",
              "0       1609459140  30603.0   NaN  NaN    NaN\n",
              "1       1609722000  30606.0   NaN  NaN    NaN\n",
              "2       1609722060  30595.0   NaN  NaN    NaN\n",
              "3       1609722120  30569.0   NaN  NaN    NaN\n",
              "4       1609722180  30573.0   NaN  NaN    NaN\n",
              "...            ...      ...   ...  ...    ...\n",
              "105864  1619049240  34110.0   NaN  NaN    NaN\n",
              "105865  1619049300  34108.0   NaN  NaN    NaN\n",
              "105866  1619049360  34110.0   NaN  NaN    NaN\n",
              "105867  1619049420  34109.0   NaN  NaN    NaN\n",
              "105868  1619049480  34108.0   NaN  NaN    NaN\n",
              "\n",
              "[105869 rows x 5 columns]"
            ]
          },
          "metadata": {
            "tags": []
          },
          "execution_count": 71
        }
      ]
    },
    {
      "cell_type": "code",
      "metadata": {
        "colab": {
          "base_uri": "https://localhost:8080/"
        },
        "id": "ts4HifuWh8He",
        "outputId": "67ca6813-95b8-4997-e360-9905c4ab9cdc"
      },
      "source": [
        "test_data = get_data( data,1,19000,window_width )\n",
        "#d = get_micro(test_data , window_height )\n",
        "#print_matrix(d)\n",
        "#plot_line_v2(test_data,7,12)\n",
        "print( ' isLong = ',isLong(19000) )\n",
        "test_data = get_data( data,1,19000 + window_width ,window_width + nb_barsM1_for_testing_res )\n",
        "#d = get_micro(test_data , window_height )\n",
        "#print_matrix(d)\n",
        "#plot_line_v2(test_data,10,12)"
      ],
      "execution_count": null,
      "outputs": [
        {
          "output_type": "stream",
          "text": [
            " isLong =  -20.0\n"
          ],
          "name": "stdout"
        }
      ]
    },
    {
      "cell_type": "code",
      "metadata": {
        "colab": {
          "base_uri": "https://localhost:8080/"
        },
        "id": "ceLt3ssmh8Hl",
        "outputId": "7f3b58d9-655b-4871-a4fa-0e425fdd7700"
      },
      "source": [
        "#-----------------------------------------------------------------------------------\n",
        "#-----------------------------------------------------------------------------------\n",
        "#---------------     gym environment           -------------------------------------\n",
        "#-----------------------------------------------------------------------------------\n",
        "#-----------------------------------------------------------------------------------\n",
        "class envDRL4K(Env ):\n",
        "    def __init__(self , iTime_start ):\n",
        "         #------------  observation_space  observation_space --------------------------------------------\n",
        "        global data , ob_space_Length , window_width , window_height , TP , SL , fee  , next_trade_one_day , nb_trade_one_day , AllReward\n",
        "        self.window                     = window_width   # 360Min = 6H (Best View) \n",
        "        self.observation_space          = Box(low= 0.0, high= 1.0, shape=( ob_space_Length , window_width , window_height), dtype=np.float16 )\n",
        "        self.action_space               = Discrete(3)\n",
        "\n",
        "        #------------  Parameters --------------------------------------------\n",
        "        self.iTime                      = iTime_start            \n",
        "        self.iTime_one_day              = 0       \n",
        "        self.nb_trade_one_day           = nb_trade_one_day\n",
        "        self.SL                         = SL\n",
        "        self.TP                         = TP\n",
        "\n",
        "        self.D_first                    = get_micro(  get_data( data , 1  , self.iTime , self.window ) , window_height )\n",
        "        self.D_second                   = get_micro(  get_data( data , 5  , self.iTime , self.window ) , window_height )\n",
        "        self.D_third                    = get_micro(  get_data( data , 15 , self.iTime , self.window ) , window_height )\n",
        "        \n",
        "        self.state                      = np.array([  self.D_first , self.D_second , self.D_third ])\n",
        "        print( ' environment is creat' )\n",
        "    def step(self, action):\n",
        "        reward = 0\n",
        "        if(action==0):# sell\n",
        "            reward = isShort(self.iTime)\n",
        "            AllReward.append(reward)\n",
        "    \n",
        "\n",
        "        if(action==1):# Buy\n",
        "            reward = isLong(self.iTime)\n",
        "            AllReward.append(reward)\n",
        "\n",
        "        if(action==2):# none\n",
        "            reward = 0\n",
        "         \n",
        "        \n",
        "        info_ = {}\n",
        "        done = False\n",
        "        self.iTime_one_day       += 1\n",
        "        self.iTime               += next_trade_one_day\n",
        "        if( self.iTime_one_day >=self.nb_trade_one_day ):  # making 100 Trades one day\n",
        "            done = True\n",
        "        if( self.iTime>= len(data)  ):                     # finishing All data\n",
        "            self.iTime = iTime_start \n",
        "            done = True\n",
        "            \n",
        "        self.D_first                    = get_micro(  get_data( data , 1  , self.iTime , self.window ) , window_height )\n",
        "        self.D_second                   = get_micro(  get_data( data , 5  , self.iTime , self.window ) , window_height )\n",
        "        self.D_third                    = get_micro(  get_data( data , 15 , self.iTime , self.window ) , window_height )\n",
        "        \n",
        "        self.state                          = np.array([  self.D_first , self.D_second , self.D_third ])\n",
        "        return self.state, reward, done, info_\n",
        "    \n",
        "    def render(self):\n",
        "        Rv = 0\n",
        "        \n",
        "    def reset(self):\n",
        "        # Reset shower temperature\n",
        "        \n",
        "        self.iTime               += random.randint(60*2, 60*4)\n",
        "        self.iTime_one_day = 0\n",
        "            \n",
        "        if( self.iTime>= len(data)  ):\n",
        "            self.iTime = iTime_start\n",
        "            self.iTime_one_day = 0\n",
        "        \n",
        "        self.D_first                    = get_micro(  get_data( data , 1  , self.iTime , self.window ) , window_height )\n",
        "        self.D_second                   = get_micro(  get_data( data , 5  , self.iTime , self.window ) , window_height )\n",
        "        self.D_third                    = get_micro(  get_data( data , 15 , self.iTime , self.window ) , window_height )\n",
        "        \n",
        "        self.state                          = np.array([  self.D_first , self.D_second , self.D_third ])\n",
        "        \n",
        "        print( self.iTime )\n",
        "\n",
        "        return self.state\n",
        "#-----------------------------------------------------------------\n",
        "env = envDRL4K(12000)"
      ],
      "execution_count": null,
      "outputs": [
        {
          "output_type": "stream",
          "text": [
            " environment is creat\n"
          ],
          "name": "stdout"
        }
      ]
    },
    {
      "cell_type": "code",
      "metadata": {
        "colab": {
          "base_uri": "https://localhost:8080/"
        },
        "id": "GrndID1Vh8Hr",
        "outputId": "01cc1935-ec7e-44ed-9480-7a44c5beb1d6"
      },
      "source": [
        "AllReward = []\n",
        "env = envDRL4K(12000)\n",
        "for i_episode in range(10):\n",
        "    observation = env.reset()\n",
        "    Allreward = 0\n",
        "    for t in range(100):\n",
        "        env.render()\n",
        "        #print(' observation shape ',observation.shape)\n",
        "        action = env.action_space.sample()\n",
        "        observation, reward, done, info = env.step(action)\n",
        "        Allreward +=reward\n",
        "        if done:\n",
        "            print(\"Episode finished after {} timesteps __ reward = {}\".format(t+1,Allreward))\n",
        "            Allreward = 0\n",
        "            break\n",
        "env.close()"
      ],
      "execution_count": null,
      "outputs": [
        {
          "output_type": "stream",
          "text": [
            " environment is creat\n",
            "Episode finished after 20 timesteps __ reward = -38.0\n",
            "Episode finished after 20 timesteps __ reward = -21.0\n",
            "Episode finished after 20 timesteps __ reward = -98.0\n",
            "Episode finished after 20 timesteps __ reward = -81.0\n",
            "Episode finished after 20 timesteps __ reward = -135.0\n",
            "Episode finished after 20 timesteps __ reward = -78.0\n",
            "Episode finished after 20 timesteps __ reward = -35.0\n",
            "Episode finished after 20 timesteps __ reward = -18.0\n",
            "Episode finished after 20 timesteps __ reward = -58.0\n",
            "Episode finished after 20 timesteps __ reward = 5.0\n"
          ],
          "name": "stdout"
        }
      ]
    },
    {
      "cell_type": "markdown",
      "metadata": {
        "id": "fTi78y_Rh8Hx"
      },
      "source": [
        "> **Mode DQN****\n"
      ]
    },
    {
      "cell_type": "code",
      "metadata": {
        "colab": {
          "base_uri": "https://localhost:8080/"
        },
        "id": "6wOlxt2Lh8H3",
        "outputId": "794c6217-464c-4518-8800-89e51faf58e5"
      },
      "source": [
        "def build_model(ob_space_Length , window_width , window_height, actions,Memoryin_window_length):\n",
        "    model = Sequential()\n",
        "    model.add(Dense(128,activation='relu', input_shape=(Memoryin_window_length,ob_space_Length  , window_height , window_width) ) )\n",
        "    model.add(Dense(256, activation='relu'))\n",
        "    model.add(Dense(256, activation='relu'))\n",
        "    model.add(Dense(128, activation='relu'))\n",
        "    model.add(Flatten())\n",
        "    model.add(Dense(actions))\n",
        "    return model    \n",
        "def build_agent(model, actions,Memoryin_window_length):\n",
        "    policy = LinearAnnealedPolicy(EpsGreedyQPolicy(), attr='eps', value_max=1., value_min=.1, value_test=.2, nb_steps=1000)\n",
        "    memory = SequentialMemory(limit= MemoryLimit , window_length=Memoryin_window_length)\n",
        "    dqn = DQNAgent(model=model, memory=memory, policy=policy,\n",
        "                  enable_dueling_network=True, dueling_type='avg', \n",
        "                   nb_actions=actions, nb_steps_warmup=1000 ,\n",
        "                   gamma=0.95 \n",
        "                  )\n",
        "    return dqn  \n",
        "model = build_model(ob_space_Length , window_width , window_height, actions,Memoryin_window_length)\n",
        "model.summary()\n",
        "dqn = build_agent(model, actions,Memoryin_window_length)\n",
        "dqn.compile( Adam(lr=1e-4))    \n",
        "name  = '/content/drive/MyDrive/DATA/DRL_4K/07-42-14/07-42-14.h5f'\n",
        "dqn.load_weights(name)    \n",
        "        "
      ],
      "execution_count": null,
      "outputs": [
        {
          "output_type": "stream",
          "text": [
            "Model: \"sequential_1\"\n",
            "_________________________________________________________________\n",
            "Layer (type)                 Output Shape              Param #   \n",
            "=================================================================\n",
            "dense_6 (Dense)              (None, 10, 3, 32, 128)    8320      \n",
            "_________________________________________________________________\n",
            "dense_7 (Dense)              (None, 10, 3, 32, 256)    33024     \n",
            "_________________________________________________________________\n",
            "dense_8 (Dense)              (None, 10, 3, 32, 256)    65792     \n",
            "_________________________________________________________________\n",
            "dense_9 (Dense)              (None, 10, 3, 32, 128)    32896     \n",
            "_________________________________________________________________\n",
            "flatten_1 (Flatten)          (None, 122880)            0         \n",
            "_________________________________________________________________\n",
            "dense_10 (Dense)             (None, 3)                 368643    \n",
            "=================================================================\n",
            "Total params: 508,675\n",
            "Trainable params: 508,675\n",
            "Non-trainable params: 0\n",
            "_________________________________________________________________\n"
          ],
          "name": "stdout"
        }
      ]
    },
    {
      "cell_type": "code",
      "metadata": {
        "id": "cRDDddZ3h8H6"
      },
      "source": [
        "next_trade_one_day          = 10\n",
        "nb_trade_one_day            = 300\n",
        "AllReward = []\n",
        "env = envDRL4K(4000)\n",
        "_ = dqn.test(env, nb_episodes=6  , visualize=False)\n",
        "show()"
      ],
      "execution_count": null,
      "outputs": []
    },
    {
      "cell_type": "code",
      "metadata": {
        "id": "A8b1GksQL8UW"
      },
      "source": [
        "show()"
      ],
      "execution_count": null,
      "outputs": []
    },
    {
      "cell_type": "code",
      "metadata": {
        "id": "ghTukyrph8H8",
        "outputId": "ef93e65d-f9f9-4f6e-8e8a-7edcb30963fe"
      },
      "source": [
        "env = envDRL4K(12000)\n",
        "FileVersion = \"DRL_4K/\"\n",
        "time = datetime.now()\n",
        "time = time.strftime(\"%H-%M-%S\")\n",
        "steps = 400000\n",
        "Looping = 1\n",
        "NameSaving = \"testing\"\n",
        "for i in range(0,Looping):\n",
        "  dqn.fit(env, nb_steps=steps, visualize=False, verbose=1)\n",
        "  time_ = datetime.now()\n",
        "  time_ = time_.strftime(\"%H-%M-%S\")\n",
        "  NameSaving = FileVersion+time_+'/' +str(time_)+\".h5f\"\n",
        "  print('IIIIIIIIIIIIIIIIIIIIIIIIIIIIIIIIIIIIIIIIIIIIIIIIIIIIIIIIIIIIIIIIIIIIIIIIIIIIIIIIIIIIIIIIIIIIIIIIIIIIIIIIIIII') \n",
        "  print(NameSaving)\n",
        "  print('IIIIIIIIIIIIIIIIIIIIIIIIIIIIIIIIIIIIIIIIIIIIIIIIIIIIIIIIIIIIIIIIIIIIIIIIIIIIIIIIIIIIIIIIIIIIIIIIIIIIIIIIIIII')\n",
        "  dqn.save_weights(NameSaving, overwrite=True)"
      ],
      "execution_count": null,
      "outputs": [
        {
          "output_type": "stream",
          "text": [
            " environment is creat\n",
            "Training for 400000 steps ...\n",
            "Interval 1 (0 steps performed)\n",
            "10000/10000 [==============================] - 11087s 1s/step - reward: -0.4589\n",
            "250 episodes - episode_reward: -18.356 [-1512.000, 1598.000] - loss: 105.657 - mean_q: 17.786 - mean_eps: 0.100\n",
            "\n",
            "Interval 2 (10000 steps performed)\n",
            "10000/10000 [==============================] - 12646s 1s/step - reward: -0.6808\n",
            "250 episodes - episode_reward: -27.232 [-912.000, 1025.000] - loss: 102.941 - mean_q: 30.463 - mean_eps: 0.100\n",
            "\n",
            "Interval 3 (20000 steps performed)\n",
            " 3819/10000 [==========>...................] - ETA: 2:21:34 - reward: -0.0545done, took 28986.105 seconds\n",
            "IIIIIIIIIIIIIIIIIIIIIIIIIIIIIIIIIIIIIIIIIIIIIIIIIIIIIIIIIIIIIIIIIIIIIIIIIIIIIIIIIIIIIIIIIIIIIIIIIIIIIIIIIIII\n",
            "DRL_4K/20-35-14/20-35-14.h5f\n",
            "IIIIIIIIIIIIIIIIIIIIIIIIIIIIIIIIIIIIIIIIIIIIIIIIIIIIIIIIIIIIIIIIIIIIIIIIIIIIIIIIIIIIIIIIIIIIIIIIIIIIIIIIIIII\n"
          ],
          "name": "stdout"
        }
      ]
    },
    {
      "cell_type": "code",
      "metadata": {
        "id": "mQKiwiQ4h8H-"
      },
      "source": [
        ""
      ],
      "execution_count": null,
      "outputs": []
    },
    {
      "cell_type": "code",
      "metadata": {
        "id": "ElWas2ECh8IA"
      },
      "source": [
        ""
      ],
      "execution_count": null,
      "outputs": []
    },
    {
      "cell_type": "code",
      "metadata": {
        "id": "HJ3MmTx2h8IB"
      },
      "source": [
        "\n"
      ],
      "execution_count": null,
      "outputs": []
    },
    {
      "cell_type": "code",
      "metadata": {
        "id": "aXZENu7eh8ID"
      },
      "source": [
        "\n"
      ],
      "execution_count": null,
      "outputs": []
    },
    {
      "cell_type": "code",
      "metadata": {
        "id": "teK5o-LBh8IE"
      },
      "source": [
        ""
      ],
      "execution_count": null,
      "outputs": []
    },
    {
      "cell_type": "code",
      "metadata": {
        "id": "v0DAskRgh8IF"
      },
      "source": [
        ""
      ],
      "execution_count": null,
      "outputs": []
    },
    {
      "cell_type": "code",
      "metadata": {
        "id": "DEqbZzFVh8IG"
      },
      "source": [
        ""
      ],
      "execution_count": null,
      "outputs": []
    },
    {
      "cell_type": "code",
      "metadata": {
        "id": "nMtMOpuyh8IH"
      },
      "source": [
        ""
      ],
      "execution_count": null,
      "outputs": []
    },
    {
      "cell_type": "code",
      "metadata": {
        "id": "vb7ZRV5nh8IH"
      },
      "source": [
        ""
      ],
      "execution_count": null,
      "outputs": []
    },
    {
      "cell_type": "code",
      "metadata": {
        "id": "6g2Q-Op1h8IJ"
      },
      "source": [
        ""
      ],
      "execution_count": null,
      "outputs": []
    },
    {
      "cell_type": "code",
      "metadata": {
        "id": "dzaOuDwVh8IK"
      },
      "source": [
        ""
      ],
      "execution_count": null,
      "outputs": []
    },
    {
      "cell_type": "code",
      "metadata": {
        "id": "XPdkqfg9h8IK"
      },
      "source": [
        "\n"
      ],
      "execution_count": null,
      "outputs": []
    },
    {
      "cell_type": "code",
      "metadata": {
        "id": "ZRQzJFAHh8IL"
      },
      "source": [
        ""
      ],
      "execution_count": null,
      "outputs": []
    },
    {
      "cell_type": "code",
      "metadata": {
        "id": "q6GCqW_fh8IM"
      },
      "source": [
        ""
      ],
      "execution_count": null,
      "outputs": []
    },
    {
      "cell_type": "code",
      "metadata": {
        "id": "lDdXFek4h8IM"
      },
      "source": [
        ""
      ],
      "execution_count": null,
      "outputs": []
    },
    {
      "cell_type": "code",
      "metadata": {
        "id": "bTG2yPksh8IN"
      },
      "source": [
        ""
      ],
      "execution_count": null,
      "outputs": []
    },
    {
      "cell_type": "code",
      "metadata": {
        "id": "xWfsvr9Ph8IO"
      },
      "source": [
        ""
      ],
      "execution_count": null,
      "outputs": []
    },
    {
      "cell_type": "code",
      "metadata": {
        "id": "tT1Vilgkh8IP"
      },
      "source": [
        ""
      ],
      "execution_count": null,
      "outputs": []
    },
    {
      "cell_type": "code",
      "metadata": {
        "id": "kZejqvl9h8IP"
      },
      "source": [
        ""
      ],
      "execution_count": null,
      "outputs": []
    }
  ]
}